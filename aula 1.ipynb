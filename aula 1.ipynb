{
 "cells": [
  {
   "cell_type": "code",
   "execution_count": 14,
   "id": "0d04680e-a8ed-4cd7-a9dd-b81ab14be7bb",
   "metadata": {},
   "outputs": [
    {
     "data": {
      "text/plain": [
       "8"
      ]
     },
     "execution_count": 14,
     "metadata": {},
     "output_type": "execute_result"
    }
   ],
   "source": [
    "#programan\n",
    "1000%60\n",
    "1000//60\n",
    "2**3"
   ]
  },
  {
   "cell_type": "code",
   "execution_count": 20,
   "id": "a45f7c9b-3795-4c66-bd96-3de835916811",
   "metadata": {},
   "outputs": [
    {
     "name": "stdout",
     "output_type": "stream",
     "text": [
      "30\n"
     ]
    }
   ],
   "source": [
    "numero = 10\n",
    "numero + numero\n",
    "numero = 30 \n",
    "print(numero)"
   ]
  },
  {
   "cell_type": "code",
   "execution_count": 1,
   "id": "991d817e-dfd5-41e8-a3d7-2bc2b95b2d71",
   "metadata": {},
   "outputs": [
    {
     "name": "stdin",
     "output_type": "stream",
     "text": [
      "digite um numero 4\n"
     ]
    },
    {
     "name": "stdout",
     "output_type": "stream",
     "text": [
      "sucesor de um numero é 5\n",
      "antecesor de um numero é 3\n"
     ]
    }
   ],
   "source": [
    "num = int(input('digite um numero'))\n",
    "print('sucesor de um numero é {}'.format(num+1))\n",
    "print('antecesor de um numero é {}'.format(num-1))"
   ]
  },
  {
   "cell_type": "code",
   "execution_count": 2,
   "id": "85ba6b15-767a-40da-8ad4-d47fbdf33312",
   "metadata": {},
   "outputs": [
    {
     "name": "stdin",
     "output_type": "stream",
     "text": [
      "digite o valor do lado do cuadrado 3\n"
     ]
    },
    {
     "name": "stdout",
     "output_type": "stream",
     "text": [
      "a area da figura vale 9.0\n",
      "o perimetro da figura vale 12.0\n"
     ]
    }
   ],
   "source": [
    "figura = float(input('digite o valor do lado do cuadrado'))\n",
    "area = figura **2\n",
    "perimetro = figura*4 \n",
    "print('a area da figura vale {}'.format(area))\n",
    "print('o perimetro da figura vale {}'.format(perimetro))"
   ]
  },
  {
   "cell_type": "code",
   "execution_count": 4,
   "id": "41567e7d-2a70-4523-9ee4-cda2a6336861",
   "metadata": {},
   "outputs": [
    {
     "name": "stdin",
     "output_type": "stream",
     "text": [
      "digite a base de um triangulo 4\n",
      "digite a altura do triangulo 3\n"
     ]
    },
    {
     "name": "stdout",
     "output_type": "stream",
     "text": [
      "4.0\n",
      "3.0\n",
      "5.0\n",
      "12.0\n",
      "6.0\n"
     ]
    }
   ],
   "source": [
    "base = float(input('digite a base de um triangulo'))\n",
    "altura = float(input('digite a altura do triangulo'))\n",
    "hipotenuza = (base **2 + altura **2)**0.5\n",
    "perimetro = base + altura + hipotenuza\n",
    "area = base*altura/2\n",
    "print(base)\n",
    "print(altura)\n",
    "print(hipotenuza)\n",
    "print(perimetro)\n",
    "print(area)"
   ]
  }
 ],
 "metadata": {
  "kernelspec": {
   "display_name": "Python 3 (ipykernel)",
   "language": "python",
   "name": "python3"
  },
  "language_info": {
   "codemirror_mode": {
    "name": "ipython",
    "version": 3
   },
   "file_extension": ".py",
   "mimetype": "text/x-python",
   "name": "python",
   "nbconvert_exporter": "python",
   "pygments_lexer": "ipython3",
   "version": "3.11.7"
  }
 },
 "nbformat": 4,
 "nbformat_minor": 5
}
