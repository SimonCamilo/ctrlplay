{
 "cells": [
  {
   "cell_type": "code",
   "execution_count": 21,
   "id": "f2d909fb-0753-4e18-82fc-e3e33a98c4c7",
   "metadata": {},
   "outputs": [
    {
     "name": "stdout",
     "output_type": "stream",
     "text": [
      "bem vindo (a),rennan da souza\n"
     ]
    }
   ],
   "source": [
    "def boas_vindas(nome,sobrenome):\n",
    "    print('bem vindo (a),{} {}'.format(nome,sobrenome))\n",
    "\n",
    "boas_vindas('rennan','da souza')"
   ]
  },
  {
   "cell_type": "code",
   "execution_count": 63,
   "id": "f686433c-5d9e-42ef-a086-939328ab9a18",
   "metadata": {},
   "outputs": [
    {
     "name": "stdout",
     "output_type": "stream",
     "text": [
      "meu firme favorito é x-men 97\n",
      "meu firme favorito é doutor estranho\n",
      "meu firme favorito é avatar:legend of aang\n",
      "meu firme favorito é dbs:saga black and zamazu\n"
     ]
    }
   ],
   "source": [
    "def filme_favorito(titulo):\n",
    "    print('meu firme favorito é {}'.format(titulo))\n",
    "\n",
    "\n",
    "filme_favorito('x-men 97')\n",
    "filme_favorito('doutor estranho')\n",
    "filme_favorito('avatar:legend of aang')\n",
    "filme_favorito('dbs:saga black and zamazu')"
   ]
  },
  {
   "cell_type": "code",
   "execution_count": 53,
   "id": "3064d9ed-707e-4081-b80c-1da4c5ede7a2",
   "metadata": {},
   "outputs": [
    {
     "name": "stdout",
     "output_type": "stream",
     "text": [
      "100.0\n",
      "33.333333333333336\n",
      "13.333333333333334\n",
      "4000.0\n"
     ]
    }
   ],
   "source": [
    "def velocidade(distancia,tempo):\n",
    "    print(distancia/tempo)\n",
    "\n",
    "velocidade(500, 5)\n",
    "velocidade(100, 3)\n",
    "velocidade(80, 6)\n",
    "velocidade(tempo=0.25, distancia=1000)"
   ]
  },
  {
   "cell_type": "code",
   "execution_count": 65,
   "id": "029f3c95-afac-4906-9e9d-b26166452088",
   "metadata": {},
   "outputs": [
    {
     "name": "stdin",
     "output_type": "stream",
     "text": [
      " 3.4\n",
      " 9.1\n"
     ]
    },
    {
     "name": "stdout",
     "output_type": "stream",
     "text": [
      "o maior valor entre 3.4 é 9.1 é 9.1\n"
     ]
    }
   ],
   "source": [
    "def maior(x,y):\n",
    "    if x >= y:\n",
    "        return x\n",
    "    else:\n",
    "        return y\n",
    "\n",
    "n = float(input(''))\n",
    "z = float(input(''))\n",
    "print('o maior valor entre {} é {} é {}'.format(n,z, maior(n,z)))"
   ]
  },
  {
   "cell_type": "code",
   "execution_count": 74,
   "id": "fd023dd9-8c62-4500-a0df-672d04ca068e",
   "metadata": {},
   "outputs": [
    {
     "name": "stdout",
     "output_type": "stream",
     "text": [
      "\n",
      " preparando um açai medio com os siguintes ingredientes: \n",
      "- banana\n",
      "- granola\n",
      "\n",
      " preparando um açai grande com os siguintes ingredientes: \n",
      "- morango\n",
      "- kiwi\n",
      "- leite em pó\n",
      "\n",
      " preparando um açai pequeno com os siguintes ingredientes: \n",
      "- banana\n",
      "\n",
      " preparando um açai grande com os siguintes ingredientes: \n",
      "- leite em pó\n",
      "- banana\n",
      "- chocolate\n"
     ]
    }
   ],
   "source": [
    "def prepara_açai(*ingredientes, tamanho='medio'):\n",
    "    print('\\n preparando um açai {} com os siguintes ingredientes: '.format(tamanho))\n",
    "    for ingrediente in ingredientes:\n",
    "        print('-', ingrediente)\n",
    "\n",
    "\n",
    "prepara_açai('banana','granola')\n",
    "prepara_açai('morango','kiwi','leite em pó', tamanho='grande')\n",
    "prepara_açai('banana',tamanho='pequeno')\n",
    "prepara_açai('leite em pó','banana','chocolate',tamanho= 'grande')"
   ]
  },
  {
   "cell_type": "code",
   "execution_count": 85,
   "id": "bf035433-cc81-4326-8f3d-9777049daa2d",
   "metadata": {},
   "outputs": [
    {
     "name": "stdout",
     "output_type": "stream",
     "text": [
      "maior:  7\n",
      "menor 1\n"
     ]
    }
   ],
   "source": [
    "def menor(lista):\n",
    "    menorValor = lista[0]\n",
    "    for x in lista:\n",
    "        if x < menorValor:\n",
    "            menorValor = x\n",
    "    return menorValor\n",
    "\n",
    "def maior(lista):\n",
    "    maiorValor = lista [0]\n",
    "    for y in lista:\n",
    "        if y > maiorValor:\n",
    "            maiorValor = y\n",
    "    return maiorValor\n",
    "\n",
    "def maiorEmenor(lista):\n",
    "    print('maior: ',maior(lista))\n",
    "    print('menor', menor(lista))\n",
    "\n",
    "\n",
    "maiorEmenor([4,5,6,7,2,1,3])"
   ]
  },
  {
   "cell_type": "code",
   "execution_count": 89,
   "id": "dd561c20-e95c-4b34-b32b-e1b5669b3206",
   "metadata": {},
   "outputs": [
    {
     "data": {
      "text/plain": [
       "4"
      ]
     },
     "execution_count": 89,
     "metadata": {},
     "output_type": "execute_result"
    }
   ],
   "source": [
    "def dobraLencol(lencol, graveta):\n",
    "    if lencol < graveta:\n",
    "        return 0\n",
    "    else:\n",
    "        return 1 + dobraLencol(lencol/2, graveta)\n",
    "\n",
    "\n",
    "dobraLencol(200, 25)"
   ]
  }
 ],
 "metadata": {
  "kernelspec": {
   "display_name": "Python 3 (ipykernel)",
   "language": "python",
   "name": "python3"
  },
  "language_info": {
   "codemirror_mode": {
    "name": "ipython",
    "version": 3
   },
   "file_extension": ".py",
   "mimetype": "text/x-python",
   "name": "python",
   "nbconvert_exporter": "python",
   "pygments_lexer": "ipython3",
   "version": "3.11.7"
  }
 },
 "nbformat": 4,
 "nbformat_minor": 5
}
