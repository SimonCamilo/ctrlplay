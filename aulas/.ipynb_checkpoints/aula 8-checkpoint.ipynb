{
 "cells": [
  {
   "cell_type": "code",
   "execution_count": 10,
   "id": "de9735dd-066c-41ff-972d-4efcb13610e7",
   "metadata": {},
   "outputs": [
    {
     "name": "stdout",
     "output_type": "stream",
     "text": [
      "Overwriting texto.txt\n"
     ]
    }
   ],
   "source": [
    "%%writefile texto.txt\n",
    "boa tarde\n",
    "tudo bem?\n",
    "ta com frio?\n",
    "por voce ta lendo isso?,vai fazr outras coisas"
   ]
  },
  {
   "cell_type": "code",
   "execution_count": 19,
   "id": "de9801d9-56c7-47c9-8214-0cf4bd73a02d",
   "metadata": {},
   "outputs": [
    {
     "data": {
      "text/plain": [
       "'erp gld\\nwxgr ehp?\\nwd idchqgr iulr?\\nyrfh dlqgd vhjxh wqhwdqgr ohu lvvr? ydl idchu rxwud frlvd\\n'"
      ]
     },
     "execution_count": 19,
     "metadata": {},
     "output_type": "execute_result"
    }
   ],
   "source": [
    "arquivo = open('texto.txt')\n",
    "arquivo.read()"
   ]
  },
  {
   "cell_type": "code",
   "execution_count": 425,
   "id": "c37335b2-be7b-4abd-8742-cbf23bebe4eb",
   "metadata": {},
   "outputs": [
    {
     "name": "stdout",
     "output_type": "stream",
     "text": [
      "Overwriting herois.txt\n"
     ]
    }
   ],
   "source": [
    "%%writefile herois.txt\n",
    "doutor estranho, marvel\n",
    "aang, avatar:legend of aang\n",
    "katara, avatar:legend of aang\n",
    "soka, avatar:legend of aang\n",
    "wanda, marvel"
   ]
  },
  {
   "cell_type": "code",
   "execution_count": 426,
   "id": "19206720-1017-4ef1-9dde-faeb150ae3fe",
   "metadata": {},
   "outputs": [
    {
     "data": {
      "text/plain": [
       "17"
      ]
     },
     "execution_count": 426,
     "metadata": {},
     "output_type": "execute_result"
    }
   ],
   "source": [
    "arquivo = open('herois.txt','a')\n",
    "arquivo.write('capitana marvel,marvel')\n",
    "arquivo.write('\\nBlack panther,marvel')\n",
    "arquivo.write('\\ntoph,avatar:legend of aang')\n",
    "arquivo.write('\\niron man, marvel')"
   ]
  },
  {
   "cell_type": "code",
   "execution_count": 427,
   "id": "3122f3a1-6220-40f8-8736-677dc1ddd882",
   "metadata": {},
   "outputs": [
    {
     "name": "stdout",
     "output_type": "stream",
     "text": [
      "doutor estranho, marvel\n",
      "\n",
      "aang, avatar:legend of aang\n",
      "\n",
      "katara, avatar:legend of aang\n",
      "\n",
      "soka, avatar:legend of aang\n",
      "\n",
      "wanda, marvel\n",
      "\n",
      "capitana marvel,marvel\n",
      "\n",
      "Black panther,marvel\n",
      "\n",
      "toph,avatar:legend of aang\n",
      "\n",
      "iron man, marvel\n"
     ]
    }
   ],
   "source": [
    "arquivo = open('herois.txt','r')\n",
    "for x in arquivo:\n",
    "    print(x)"
   ]
  },
  {
   "cell_type": "code",
   "execution_count": 428,
   "id": "d3f386dc-80de-49cb-baef-39fd602138d7",
   "metadata": {},
   "outputs": [
    {
     "name": "stdout",
     "output_type": "stream",
     "text": [
      "doutor estranho, marvel\n",
      "\n",
      "aang, avatar:legend of aang\n",
      "\n",
      "katara, avatar:legend of aang\n",
      "\n",
      "soka, avatar:legend of aang\n",
      "\n",
      "wanda, marvel\n",
      "\n",
      "capitana marvel,marvel\n",
      "\n",
      "Black panther,marvel\n",
      "\n",
      "toph,avatar:legend of aang\n",
      "\n",
      "iron man, marvel\n"
     ]
    }
   ],
   "source": [
    "with open('herois.txt') as arquivo:\n",
    "    for x in arquivo:\n",
    "        print(x)"
   ]
  },
  {
   "cell_type": "code",
   "execution_count": 472,
   "id": "14a3e8c2-477a-4faa-894d-c85848761f5f",
   "metadata": {},
   "outputs": [
    {
     "name": "stdout",
     "output_type": "stream",
     "text": [
      "[25,50]\n"
     ]
    }
   ],
   "source": [
    "arquivo = open('intervalo.txt')\n",
    "x = int(arquivo.read())\n",
    "if x >= 0 and x < 25:\n",
    "    print('[0,25]')\n",
    "elif x >= 25 and x < 50:\n",
    "    print('[25,50]')\n",
    "elif x >= 50 and x < 75:\n",
    "    print('[50,75]')\n",
    "elif x >= 75 and x < 100:\n",
    "    print('[75,100]')\n",
    "else:\n",
    "    print('fora de intervalo')"
   ]
  },
  {
   "cell_type": "code",
   "execution_count": 514,
   "id": "99a4b25f-5af0-45c2-99e3-dd527313da46",
   "metadata": {},
   "outputs": [
    {
     "name": "stdout",
     "output_type": "stream",
     "text": [
      "5\n",
      "13\n"
     ]
    }
   ],
   "source": [
    "arquivo = open('horas.txt')\n",
    "Inicial,Final = arquivo.read().split()\n",
    "Inicial = int(Inicial)\n",
    "Final = int(Final)\n",
    "print(Inicial)\n",
    "print(Final)"
   ]
  }
 ],
 "metadata": {
  "kernelspec": {
   "display_name": "Python 3 (ipykernel)",
   "language": "python",
   "name": "python3"
  },
  "language_info": {
   "codemirror_mode": {
    "name": "ipython",
    "version": 3
   },
   "file_extension": ".py",
   "mimetype": "text/x-python",
   "name": "python",
   "nbconvert_exporter": "python",
   "pygments_lexer": "ipython3",
   "version": "3.11.7"
  }
 },
 "nbformat": 4,
 "nbformat_minor": 5
}
