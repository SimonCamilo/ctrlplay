{
 "cells": [
  {
   "cell_type": "code",
   "execution_count": null,
   "id": "45379d41-447a-4707-a983-11e68e598d8d",
   "metadata": {},
   "outputs": [],
   "source": [
    "class Prova():\n",
    "\n",
    "    def __init__(self):\n",
    "        self.questoes = []\n",
    "        self.resposta = []\n",
    "\n",
    "    def mostrar_Questoes(self):\n",
    "        print(self.questoes)\n",
    "\n",
    "    def mostrar_Respostas(self):\n",
    "        print(self.respostas)\n",
    "\n",
    "    def armazena_Questao_Resposta(self, novaQuestao, novaResposta):\n",
    "        self.questoes.append(novaQuestao)\n",
    "        self.resposta.append(novaResposta)"
   ]
  }
 ],
 "metadata": {
  "kernelspec": {
   "display_name": "Python 3 (ipykernel)",
   "language": "python",
   "name": "python3"
  },
  "language_info": {
   "codemirror_mode": {
    "name": "ipython",
    "version": 3
   },
   "file_extension": ".py",
   "mimetype": "text/x-python",
   "name": "python",
   "nbconvert_exporter": "python",
   "pygments_lexer": "ipython3",
   "version": "3.11.7"
  }
 },
 "nbformat": 4,
 "nbformat_minor": 5
}
