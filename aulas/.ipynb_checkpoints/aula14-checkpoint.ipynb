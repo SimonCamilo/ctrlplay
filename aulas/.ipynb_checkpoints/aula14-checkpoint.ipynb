{
 "cells": [
  {
   "cell_type": "code",
   "execution_count": 28,
   "id": "5307fa82-b823-4219-b485-0981712f5b84",
   "metadata": {},
   "outputs": [
    {
     "name": "stderr",
     "output_type": "stream",
     "text": [
      "..\n",
      "----------------------------------------------------------------------\n",
      "Ran 2 tests in 0.001s\n",
      "\n",
      "OK\n"
     ]
    },
    {
     "data": {
      "text/plain": [
       "<unittest.main.TestProgram at 0x204d43c4e10>"
      ]
     },
     "execution_count": 28,
     "metadata": {},
     "output_type": "execute_result"
    }
   ],
   "source": [
    "import unittest\n",
    "from nome import sobrenomeNaOrdem\n",
    "\n",
    "class NomeTest(unittest.TestCase):\n",
    "\n",
    "\n",
    "    def test_sobrenomeNaOrdem(self):\n",
    "        nomeCompleto = sobrenomeNaOrdem('Simon','Rodriguez','Lopez')\n",
    "        self.assertEqual(nomeCompleto, 'Simon Lopez Rodriguez')\n",
    "\n",
    "\n",
    "    def test_sobrenomeNaOrdem2(self):\n",
    "        nomeCompleto2 = sobrenomeNaOrdem('Rafael','Rodriguez','Lopez')\n",
    "        self.assertEqual(nomeCompleto2, 'Rafael Lopez Rodriguez')\n",
    "\n",
    "unittest.main(argv=[''], exit=False)"
   ]
  },
  {
   "cell_type": "code",
   "execution_count": 37,
   "id": "ebef1d07-0a9f-4a9f-81c9-b26c884d9b52",
   "metadata": {},
   "outputs": [
    {
     "name": "stderr",
     "output_type": "stream",
     "text": [
      "..EE\n",
      "======================================================================\n",
      "ERROR: test_armazenaQuestao (__main__.ProvaText.test_armazenaQuestao)\n",
      "----------------------------------------------------------------------\n",
      "Traceback (most recent call last):\n",
      "  File \"C:\\Users\\Pichau\\AppData\\Local\\Temp\\ipykernel_15692\\3298856926.py\", line 13, in test_armazenaQuestao\n",
      "    self.assertIn('come é composta a sangre?', self.p.questoes)\n",
      "                                               ^^^^^^\n",
      "AttributeError: 'ProvaText' object has no attribute 'p'\n",
      "\n",
      "======================================================================\n",
      "ERROR: test_armazenaResposta (__main__.ProvaText.test_armazenaResposta)\n",
      "----------------------------------------------------------------------\n",
      "Traceback (most recent call last):\n",
      "  File \"C:\\Users\\Pichau\\AppData\\Local\\Temp\\ipykernel_15692\\3298856926.py\", line 16, in test_armazenaResposta\n",
      "    self.assertIn('A parte líquida, chamada plasma, contém água, sais e proteínas', self.p.resposta)\n",
      "                                                                                    ^^^^^^\n",
      "AttributeError: 'ProvaText' object has no attribute 'p'\n",
      "\n",
      "----------------------------------------------------------------------\n",
      "Ran 4 tests in 0.002s\n",
      "\n",
      "FAILED (errors=2)\n"
     ]
    },
    {
     "data": {
      "text/plain": [
       "<unittest.main.TestProgram at 0x204d45731d0>"
      ]
     },
     "execution_count": 37,
     "metadata": {},
     "output_type": "execute_result"
    }
   ],
   "source": [
    "import unittest\n",
    "from exame import Prova\n",
    "\n",
    "class ProvaText(unittest.TestCase):\n",
    "    \n",
    "    def setup(self):\n",
    "        self.questao = 'como é composta a sangre?'\n",
    "        self.resposta = 'A parte líquida, chamada plasma, contém água, sais e proteínas'\n",
    "        self.p = Prova()\n",
    "        self.p.armazena_Questao_Resposta(self.questao, self.resposta)\n",
    "\n",
    "    def test_armazenaQuestao(self):\n",
    "        self.assertIn('come é composta a sangre?', self.p.questoes)\n",
    "\n",
    "    def test_armazenaResposta(self):\n",
    "        self.assertIn('A parte líquida, chamada plasma, contém água, sais e proteínas', self.p.resposta)\n",
    "\n",
    "\n",
    "unittest.main(argv=[''], exit=False)"
   ]
  },
  {
   "cell_type": "code",
   "execution_count": null,
   "id": "0a821474-38a9-4f27-adbb-0d0cee1e498e",
   "metadata": {},
   "outputs": [],
   "source": []
  }
 ],
 "metadata": {
  "kernelspec": {
   "display_name": "Python 3 (ipykernel)",
   "language": "python",
   "name": "python3"
  },
  "language_info": {
   "codemirror_mode": {
    "name": "ipython",
    "version": 3
   },
   "file_extension": ".py",
   "mimetype": "text/x-python",
   "name": "python",
   "nbconvert_exporter": "python",
   "pygments_lexer": "ipython3",
   "version": "3.11.7"
  }
 },
 "nbformat": 4,
 "nbformat_minor": 5
}
