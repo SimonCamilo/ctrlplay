{
 "cells": [
  {
   "cell_type": "code",
   "execution_count": 2,
   "id": "e44dc011-6462-41e7-ae7c-d5c72ee1b700",
   "metadata": {},
   "outputs": [],
   "source": [
    "class Casa():\n",
    "    rua = 'avenida winston churchill'\n",
    "    bairro = 'capão Raso'\n",
    "    cep = '8113000'\n",
    "\n",
    "    def enderecoCompleto(self):\n",
    "        return 'endereço completo: {}, {} - cep: {}'.format(self.rua, self.bairro,self.cep)"
   ]
  },
  {
   "cell_type": "code",
   "execution_count": 17,
   "id": "c5d99be5-6af0-41d0-b895-986ff3ae0fa4",
   "metadata": {},
   "outputs": [
    {
     "name": "stdin",
     "output_type": "stream",
     "text": [
      "qual é o nome do seu personagem ale\n"
     ]
    },
    {
     "name": "stdout",
     "output_type": "stream",
     "text": [
      "bemvindo, ale. voçe entrou neste mundo\n",
      "\n",
      "            [Opçoes]\n",
      "            [1] seguir em frente e entrar na mansao abandonada\n",
      "            [2] mostrar status\n",
      "            [3]procurar item\n",
      "            [4]sair\n",
      "            \n"
     ]
    },
    {
     "name": "stdin",
     "output_type": "stream",
     "text": [
      "Qual é a sua opçao 1\n"
     ]
    },
    {
     "name": "stdout",
     "output_type": "stream",
     "text": [
      "cuidado. guarda te viu!\n",
      "\n",
      "            [1] atacar\n",
      "            [2]fugir\n",
      "            \n"
     ]
    },
    {
     "name": "stdin",
     "output_type": "stream",
     "text": [
      "qual a sua opcao? 1\n"
     ]
    },
    {
     "name": "stdout",
     "output_type": "stream",
     "text": [
      "ale casou 5 de dano\n",
      "guarda causo 0 de dano em vc\n",
      "\n",
      "            [1] atacar\n",
      "            [2]fugir\n",
      "            \n"
     ]
    },
    {
     "name": "stdin",
     "output_type": "stream",
     "text": [
      "qual a sua opcao? 1\n"
     ]
    },
    {
     "name": "stdout",
     "output_type": "stream",
     "text": [
      "ale casou 5 de dano\n",
      "guarda causo 0 de dano em vc\n",
      "\n",
      "            [1] atacar\n",
      "            [2]fugir\n",
      "            \n"
     ]
    },
    {
     "name": "stdin",
     "output_type": "stream",
     "text": [
      "qual a sua opcao? 1\n"
     ]
    },
    {
     "name": "stdout",
     "output_type": "stream",
     "text": [
      "ale casou 5 de dano\n",
      "guarda causo 0 de dano em vc\n",
      "\n",
      "            [1] atacar\n",
      "            [2]fugir\n",
      "            \n"
     ]
    },
    {
     "name": "stdin",
     "output_type": "stream",
     "text": [
      "qual a sua opcao? 1\n"
     ]
    },
    {
     "name": "stdout",
     "output_type": "stream",
     "text": [
      "ale casou 5 de dano\n",
      "ganhou\n",
      "\n",
      "            [Opçoes]\n",
      "            [1] seguir em frente e entrar na mansao abandonada\n",
      "            [2] mostrar status\n",
      "            [3]procurar item\n",
      "            [4]sair\n",
      "            \n"
     ]
    },
    {
     "name": "stdin",
     "output_type": "stream",
     "text": [
      "Qual é a sua opçao 2\n"
     ]
    },
    {
     "name": "stdout",
     "output_type": "stream",
     "text": [
      "status\n",
      "Nome: ale\n",
      "ataque: 17\n",
      "defesa: 20\n",
      "vida: 20\n",
      "itens: []\n",
      "\n",
      "            [Opçoes]\n",
      "            [1] seguir em frente e entrar na mansao abandonada\n",
      "            [2] mostrar status\n",
      "            [3]procurar item\n",
      "            [4]sair\n",
      "            \n"
     ]
    },
    {
     "name": "stdin",
     "output_type": "stream",
     "text": [
      "Qual é a sua opçao 3\n"
     ]
    },
    {
     "name": "stdout",
     "output_type": "stream",
     "text": [
      "vc pegou o/uma pergaminho de magia negra\n",
      "\n",
      "            [Opçoes]\n",
      "            [1] seguir em frente e entrar na mansao abandonada\n",
      "            [2] mostrar status\n",
      "            [3]procurar item\n",
      "            [4]sair\n",
      "            \n"
     ]
    },
    {
     "name": "stdin",
     "output_type": "stream",
     "text": [
      "Qual é a sua opçao 2\n"
     ]
    },
    {
     "name": "stdout",
     "output_type": "stream",
     "text": [
      "status\n",
      "Nome: ale\n",
      "ataque: 17\n",
      "defesa: 20\n",
      "vida: 20\n",
      "itens: ['pergaminho de magia negra']\n",
      "\n",
      "            [Opçoes]\n",
      "            [1] seguir em frente e entrar na mansao abandonada\n",
      "            [2] mostrar status\n",
      "            [3]procurar item\n",
      "            [4]sair\n",
      "            \n"
     ]
    },
    {
     "name": "stdin",
     "output_type": "stream",
     "text": [
      "Qual é a sua opçao 3\n"
     ]
    },
    {
     "name": "stdout",
     "output_type": "stream",
     "text": [
      "vc pegou o/uma pergaminho de magia negra\n",
      "\n",
      "            [Opçoes]\n",
      "            [1] seguir em frente e entrar na mansao abandonada\n",
      "            [2] mostrar status\n",
      "            [3]procurar item\n",
      "            [4]sair\n",
      "            \n"
     ]
    },
    {
     "name": "stdin",
     "output_type": "stream",
     "text": [
      "Qual é a sua opçao 3\n"
     ]
    },
    {
     "name": "stdout",
     "output_type": "stream",
     "text": [
      "vc pegou o/uma pocao de cura\n",
      "\n",
      "            [Opçoes]\n",
      "            [1] seguir em frente e entrar na mansao abandonada\n",
      "            [2] mostrar status\n",
      "            [3]procurar item\n",
      "            [4]sair\n",
      "            \n"
     ]
    },
    {
     "name": "stdin",
     "output_type": "stream",
     "text": [
      "Qual é a sua opçao 3\n"
     ]
    },
    {
     "name": "stdout",
     "output_type": "stream",
     "text": [
      "vc pegou o/uma espada de brinquedo\n",
      "\n",
      "            [Opçoes]\n",
      "            [1] seguir em frente e entrar na mansao abandonada\n",
      "            [2] mostrar status\n",
      "            [3]procurar item\n",
      "            [4]sair\n",
      "            \n"
     ]
    },
    {
     "ename": "KeyboardInterrupt",
     "evalue": "Interrupted by user",
     "output_type": "error",
     "traceback": [
      "\u001b[1;31m---------------------------------------------------------------------------\u001b[0m",
      "\u001b[1;31mKeyboardInterrupt\u001b[0m                         Traceback (most recent call last)",
      "Cell \u001b[1;32mIn[17], line 104\u001b[0m\n\u001b[0;32m    101\u001b[0m inimigos \u001b[38;5;241m=\u001b[39m [Inimigo(\u001b[38;5;124m'\u001b[39m\u001b[38;5;124mesqueleto\u001b[39m\u001b[38;5;124m'\u001b[39m,\u001b[38;5;241m14\u001b[39m,\u001b[38;5;241m21\u001b[39m,\u001b[38;5;241m9\u001b[39m), Inimigo(\u001b[38;5;124m'\u001b[39m\u001b[38;5;124msakuya\u001b[39m\u001b[38;5;124m'\u001b[39m,\u001b[38;5;241m20\u001b[39m,\u001b[38;5;241m16\u001b[39m,\u001b[38;5;241m20\u001b[39m), Inimigo(\u001b[38;5;124m'\u001b[39m\u001b[38;5;124mguarda\u001b[39m\u001b[38;5;124m'\u001b[39m,\u001b[38;5;241m19\u001b[39m,\u001b[38;5;241m15\u001b[39m,\u001b[38;5;241m12\u001b[39m)]\n\u001b[0;32m    103\u001b[0m jogo \u001b[38;5;241m=\u001b[39m Mundo(jogador, inimigos)\n\u001b[1;32m--> 104\u001b[0m jogo\u001b[38;5;241m.\u001b[39mjogar()\n",
      "Cell \u001b[1;32mIn[17], line 55\u001b[0m, in \u001b[0;36mMundo.jogar\u001b[1;34m(self)\u001b[0m\n\u001b[0;32m     46\u001b[0m \u001b[38;5;28;01mwhile\u001b[39;00m \u001b[38;5;28;01mTrue\u001b[39;00m:\n\u001b[0;32m     47\u001b[0m     \u001b[38;5;28mprint\u001b[39m (\u001b[38;5;124m'''\u001b[39m\n\u001b[0;32m     48\u001b[0m \u001b[38;5;124m    [Opçoes]\u001b[39m\n\u001b[0;32m     49\u001b[0m \u001b[38;5;124m    [1] seguir em frente e entrar na mansao abandonada\u001b[39m\n\u001b[1;32m   (...)\u001b[0m\n\u001b[0;32m     52\u001b[0m \u001b[38;5;124m    [4]sair\u001b[39m\n\u001b[0;32m     53\u001b[0m \u001b[38;5;124m    \u001b[39m\u001b[38;5;124m'''\u001b[39m)\n\u001b[1;32m---> 55\u001b[0m     opcao \u001b[38;5;241m=\u001b[39m \u001b[38;5;28minput\u001b[39m(\u001b[38;5;124m'\u001b[39m\u001b[38;5;124mQual é a sua opçao\u001b[39m\u001b[38;5;124m'\u001b[39m)\n\u001b[0;32m     56\u001b[0m     \u001b[38;5;28;01mif\u001b[39;00m opcao \u001b[38;5;241m==\u001b[39m \u001b[38;5;124m'\u001b[39m\u001b[38;5;124m1\u001b[39m\u001b[38;5;124m'\u001b[39m :\n\u001b[0;32m     57\u001b[0m         \u001b[38;5;28mself\u001b[39m\u001b[38;5;241m.\u001b[39menfrentarInimigo()\n",
      "File \u001b[1;32m~\\anaconda3\\Lib\\site-packages\\ipykernel\\kernelbase.py:1262\u001b[0m, in \u001b[0;36mKernel.raw_input\u001b[1;34m(self, prompt)\u001b[0m\n\u001b[0;32m   1260\u001b[0m     msg \u001b[38;5;241m=\u001b[39m \u001b[38;5;124m\"\u001b[39m\u001b[38;5;124mraw_input was called, but this frontend does not support input requests.\u001b[39m\u001b[38;5;124m\"\u001b[39m\n\u001b[0;32m   1261\u001b[0m     \u001b[38;5;28;01mraise\u001b[39;00m StdinNotImplementedError(msg)\n\u001b[1;32m-> 1262\u001b[0m \u001b[38;5;28;01mreturn\u001b[39;00m \u001b[38;5;28mself\u001b[39m\u001b[38;5;241m.\u001b[39m_input_request(\n\u001b[0;32m   1263\u001b[0m     \u001b[38;5;28mstr\u001b[39m(prompt),\n\u001b[0;32m   1264\u001b[0m     \u001b[38;5;28mself\u001b[39m\u001b[38;5;241m.\u001b[39m_parent_ident[\u001b[38;5;124m\"\u001b[39m\u001b[38;5;124mshell\u001b[39m\u001b[38;5;124m\"\u001b[39m],\n\u001b[0;32m   1265\u001b[0m     \u001b[38;5;28mself\u001b[39m\u001b[38;5;241m.\u001b[39mget_parent(\u001b[38;5;124m\"\u001b[39m\u001b[38;5;124mshell\u001b[39m\u001b[38;5;124m\"\u001b[39m),\n\u001b[0;32m   1266\u001b[0m     password\u001b[38;5;241m=\u001b[39m\u001b[38;5;28;01mFalse\u001b[39;00m,\n\u001b[0;32m   1267\u001b[0m )\n",
      "File \u001b[1;32m~\\anaconda3\\Lib\\site-packages\\ipykernel\\kernelbase.py:1305\u001b[0m, in \u001b[0;36mKernel._input_request\u001b[1;34m(self, prompt, ident, parent, password)\u001b[0m\n\u001b[0;32m   1302\u001b[0m \u001b[38;5;28;01mexcept\u001b[39;00m \u001b[38;5;167;01mKeyboardInterrupt\u001b[39;00m:\n\u001b[0;32m   1303\u001b[0m     \u001b[38;5;66;03m# re-raise KeyboardInterrupt, to truncate traceback\u001b[39;00m\n\u001b[0;32m   1304\u001b[0m     msg \u001b[38;5;241m=\u001b[39m \u001b[38;5;124m\"\u001b[39m\u001b[38;5;124mInterrupted by user\u001b[39m\u001b[38;5;124m\"\u001b[39m\n\u001b[1;32m-> 1305\u001b[0m     \u001b[38;5;28;01mraise\u001b[39;00m \u001b[38;5;167;01mKeyboardInterrupt\u001b[39;00m(msg) \u001b[38;5;28;01mfrom\u001b[39;00m \u001b[38;5;28;01mNone\u001b[39;00m\n\u001b[0;32m   1306\u001b[0m \u001b[38;5;28;01mexcept\u001b[39;00m \u001b[38;5;167;01mException\u001b[39;00m:\n\u001b[0;32m   1307\u001b[0m     \u001b[38;5;28mself\u001b[39m\u001b[38;5;241m.\u001b[39mlog\u001b[38;5;241m.\u001b[39mwarning(\u001b[38;5;124m\"\u001b[39m\u001b[38;5;124mInvalid Message:\u001b[39m\u001b[38;5;124m\"\u001b[39m, exc_info\u001b[38;5;241m=\u001b[39m\u001b[38;5;28;01mTrue\u001b[39;00m)\n",
      "\u001b[1;31mKeyboardInterrupt\u001b[0m: Interrupted by user"
     ]
    }
   ],
   "source": [
    "import random\n",
    "\n",
    "class Jogador():\n",
    "    \n",
    "    def __init__(self, nome):\n",
    "        self.nome = nome\n",
    "        self.vida = 20\n",
    "        self.ataque = 17\n",
    "        self.defesa = 20\n",
    "        self.itens = []\n",
    "    def atacar(self,inimigo):\n",
    "        dano = max(0, self.ataque - inimigo.defesa)\n",
    "        inimigo.vida = inimigo.vida - dano\n",
    "        print('{} casou {} de dano'.format(self.nome, dano))\n",
    "\n",
    "    def mostrarStatus(self):\n",
    "        print('status')\n",
    "        print('Nome: {}'.format(self.nome))\n",
    "        print('ataque: {}'.format(self.ataque))\n",
    "        print('defesa: {}'.format(self.defesa))\n",
    "        print('vida: {}'.format(self.vida))\n",
    "        print('itens: {}'.format(self.itens))\n",
    "\n",
    "    def pegarItens(self, item_encontrado):\n",
    "        self.itens.append(item_encontrado)\n",
    "        print('vc pegou o/uma {}'.format(item_encontrado))\n",
    "class Inimigo():\n",
    "\n",
    "    def __init__(self,nome, vida, ataque, defesa):\n",
    "        self.nome = nome\n",
    "        self.vida = vida\n",
    "        self.ataque = ataque\n",
    "        self.defesa = defesa\n",
    "\n",
    "    def atacar(self, jogador):\n",
    "        dano = max(0, self.ataque - jogador.defesa)\n",
    "        jogador.vida = jogador.vida - dano\n",
    "        print('{} causo {} de dano em vc'.format(self.nome, dano))\n",
    "class Mundo():\n",
    "\n",
    "    def __init__(self,jogador, inimigos):\n",
    "        self.jogador = jogador\n",
    "        self.inimigo = random.choice(inimigos)\n",
    "        self.itens = ['pergaminho de magia negra','espada de brinquedo', 'pocao de cura']\n",
    "    def jogar(self):\n",
    "        while True:\n",
    "            print ('''\n",
    "            [Opçoes]\n",
    "            [1] seguir em frente e entrar na mansao abandonada\n",
    "            [2] mostrar status\n",
    "            [3]procurar item\n",
    "            [4]sair\n",
    "            ''')\n",
    "            \n",
    "            opcao = input('Qual é a sua opçao')\n",
    "            if opcao == '1' :\n",
    "                self.enfrentarInimigo()\n",
    "            elif opcao == '2' :\n",
    "                self.jogador.mostrarStatus()\n",
    "            elif opcao == '3' :\n",
    "                self.procurarItens()\n",
    "            else:\n",
    "                print('obrigado por jogar')\n",
    "                break\n",
    "    def enfrentarInimigo(self):\n",
    "        self.setInimigo(inimigos)\n",
    "        print('cuidado. {} te viu!'.format(self.inimigo.nome))   \n",
    "        while self.jogador.vida > 0 and self.inimigo.vida > 0:\n",
    "            print('''\n",
    "            [1] atacar\n",
    "            [2]fugir\n",
    "            ''')\n",
    "            opcao = input('qual a sua opcao?')\n",
    "            if opcao == '1':\n",
    "                self.jogador.atacar(self.inimigos)\n",
    "                if self.inimigo.vida > 0:\n",
    "                    self.inimigo.atacar(self.jogador)\n",
    "            elif opcao == '2':\n",
    "                print('fugio da mansao!')\n",
    "                break\n",
    "            else:\n",
    "                print('invalido. digite novamente')\n",
    "            if self.jogador.vida <= 0:\n",
    "                print('game over!')\n",
    "                \n",
    "            if self.inimigo.vida <= 0:    \n",
    "                print('ganhou')\n",
    "\n",
    "    def procurarItens(self):\n",
    "        item_encontrado = random.choice(self.itens)\n",
    "        self.jogador.pegarItens(item_encontrado)\n",
    "        \n",
    "    def setInimigo(self,inimigos):\n",
    "        self.inimigos = random.choice(inimigos)\n",
    "        \n",
    "#inicio\n",
    "nome_jogador = input('qual é o nome do seu personagem')\n",
    "print('bemvindo, {}. voçe entrou neste mundo'.format(nome_jogador))\n",
    "jogador = Jogador(nome_jogador)\n",
    "\n",
    "inimigos = [Inimigo('esqueleto',14,21,9), Inimigo('sakuya',19,15,17), Inimigo('remilia',19,17,20)]\n",
    "\n",
    "jogo = Mundo(jogador, inimigos)\n",
    "jogo.jogar()"
   ]
  }
 ],
 "metadata": {
  "kernelspec": {
   "display_name": "Python 3 (ipykernel)",
   "language": "python",
   "name": "python3"
  },
  "language_info": {
   "codemirror_mode": {
    "name": "ipython",
    "version": 3
   },
   "file_extension": ".py",
   "mimetype": "text/x-python",
   "name": "python",
   "nbconvert_exporter": "python",
   "pygments_lexer": "ipython3",
   "version": "3.11.7"
  }
 },
 "nbformat": 4,
 "nbformat_minor": 5
}
