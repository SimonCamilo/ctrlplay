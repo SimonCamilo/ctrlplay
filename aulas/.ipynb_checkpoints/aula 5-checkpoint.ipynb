{
 "cells": [
  {
   "cell_type": "code",
   "execution_count": 18,
   "id": "64316a3c-7506-4fce-823e-159713aa0e33",
   "metadata": {},
   "outputs": [
    {
     "name": "stdout",
     "output_type": "stream",
     "text": [
      "1\n",
      "2\n",
      "3\n",
      "4\n",
      "5\n",
      "6\n",
      "7\n",
      "8\n",
      "9\n",
      "10\n",
      "***************************\n",
      "2                   \n",
      "4                   \n",
      "6                   \n",
      "8                   \n",
      "10                  \n",
      "***************************\n",
      "c\n",
      "t\n",
      "r\n",
      "l\n",
      "+\n",
      "p\n",
      "l\n",
      "a\n",
      "y\n",
      "***************************\n"
     ]
    }
   ],
   "source": [
    "for num in range(1,11):\n",
    "    print(num)\n",
    "print(\"***************************\")\n",
    "for num in range(1, 11):\n",
    "    if num % 2 == 0:\n",
    "        print('{:<20}'.format(num))\n",
    "print(\"***************************\")\n",
    "for letra in 'ctrl+play':\n",
    "    print(letra)\n",
    "print(\"***************************\")"
   ]
  },
  {
   "cell_type": "code",
   "execution_count": 27,
   "id": "0797d82d-6828-4467-925d-7424dda9b81f",
   "metadata": {},
   "outputs": [
    {
     "name": "stdout",
     "output_type": "stream",
     "text": [
      "105\n"
     ]
    }
   ],
   "source": [
    "soma = 0\n",
    "numeros = range(1,1000)\n",
    "i = 0 \n",
    "while soma < 100:\n",
    "    soma += numeros[i]\n",
    "    i += 1\n",
    "print(soma)"
   ]
  },
  {
   "cell_type": "code",
   "execution_count": 41,
   "id": "238a935d-a66e-40ec-a3c4-24fe088f8668",
   "metadata": {},
   "outputs": [
    {
     "name": "stdout",
     "output_type": "stream",
     "text": [
      "buscando...\n",
      "buscando...\n",
      "3\n",
      "buscando...\n",
      "6\n",
      "buscando...\n",
      "buscando...\n",
      "9\n",
      "buscando...\n",
      "12\n",
      "buscando...\n",
      "buscando...\n",
      "15\n",
      "buscando...\n",
      "buscando...\n",
      "18\n",
      "buscando...\n",
      "21\n",
      "buscando...\n",
      "buscando...\n",
      "24\n",
      "buscando...\n",
      "27\n",
      "buscando...\n",
      "buscando...\n",
      "30\n",
      "buscando...\n",
      "buscando...\n",
      "33\n",
      "buscando...\n",
      "36\n",
      "buscando...\n",
      "buscando...\n",
      "39\n",
      "buscando...\n",
      "42\n",
      "315\n"
     ]
    }
   ],
   "source": [
    "soma = x = 0\n",
    "while x < 1000:\n",
    "    x += 1\n",
    "    if x % 3 == 0:\n",
    "        print(x)\n",
    "        soma += x\n",
    "    elif x % 5 == 0:\n",
    "        pass\n",
    "    else:\n",
    "        print(\"buscando...\")\n",
    "        continue\n",
    "    if soma > 300:\n",
    "        print(soma)\n",
    "        break"
   ]
  },
  {
   "cell_type": "code",
   "execution_count": 53,
   "id": "ef93d91e-8a63-470b-a34f-fe8fe8b64563",
   "metadata": {},
   "outputs": [
    {
     "name": "stdin",
     "output_type": "stream",
     "text": [
      " 2\n"
     ]
    },
    {
     "name": "stdout",
     "output_type": "stream",
     "text": [
      "2*1 = 2\n",
      "2*2 = 4\n",
      "2*3 = 6\n",
      "2*4 = 8\n",
      "2*5 = 10\n",
      "2*6 = 12\n",
      "2*7 = 14\n",
      "2*8 = 16\n",
      "2*9 = 18\n",
      "2*10 = 20\n"
     ]
    }
   ],
   "source": [
    "x = int(input(''))\n",
    "for cont in range(1,11):\n",
    "    print(f\"{x}*{cont} = {x*cont}\")"
   ]
  },
  {
   "cell_type": "code",
   "execution_count": 83,
   "id": "9087586f-bfb2-4342-ae15-be015109cc2e",
   "metadata": {},
   "outputs": [
    {
     "name": "stdin",
     "output_type": "stream",
     "text": [
      " 1\n",
      " 2\n",
      " 3\n",
      " 4\n",
      " 5\n",
      " 6\n",
      " 7\n",
      " 8\n",
      " 9\n",
      " 10\n"
     ]
    },
    {
     "name": "stdout",
     "output_type": "stream",
     "text": [
      "10\n"
     ]
    }
   ],
   "source": [
    "lista = []\n",
    "maior = 0\n",
    "for z in range(1,11):\n",
    "    z = int(input(''))\n",
    "    lista.append(z)\n",
    "for cont  in range(0,len(lista)):\n",
    "    if cont == 0:\n",
    "        maior = lista[0]\n",
    "    if lista[cont] > maior:\n",
    "        maior = lista[cont]\n",
    "print(maior)"
   ]
  },
  {
   "cell_type": "code",
   "execution_count": 23,
   "id": "657e8bf0-2790-46ff-87bb-01bde84adfdf",
   "metadata": {},
   "outputs": [
    {
     "name": "stdin",
     "output_type": "stream",
     "text": [
      " 10\n"
     ]
    },
    {
     "name": "stdout",
     "output_type": "stream",
     "text": [
      "0 1 1 2 3 5 8 13 21 34\n"
     ]
    }
   ],
   "source": [
    "num = int(input()) \n",
    "fibo1 = 0\n",
    "fibo2 = 1\n",
    "if num == 1:\n",
    "    print('{}'.format(fibo1), end=' ')\n",
    "if num == 2:\n",
    "    print('{} {}'.format(fibo1, fibo2), end=' ')\n",
    "if num >= 3:\n",
    "    print('{} {}'.format(fibo1, fibo2), end=' ')\n",
    "    for cont in range(3, num+1):\n",
    "        fibo3 = fibo1 + fibo2\n",
    "        fibo1 = fibo2\n",
    "        fibo2 = fibo3\n",
    "        if cont == num:\n",
    "            print(fibo3)\n",
    "        else:\n",
    "            print(fibo3, end = ' ')"
   ]
  },
  {
   "cell_type": "code",
   "execution_count": 26,
   "id": "7507a436-e1d6-4004-9907-c100791828de",
   "metadata": {},
   "outputs": [
    {
     "name": "stdin",
     "output_type": "stream",
     "text": [
      " 1000\n"
     ]
    },
    {
     "name": "stdout",
     "output_type": "stream",
     "text": [
      "1000 não é primo!\n",
      "[1, 2, 4, 5, 8, 10, 20, 25, 40, 50, 100, 125, 200, 250, 500, 1000]\n"
     ]
    }
   ],
   "source": [
    "num = int(input())\n",
    "contador = 0\n",
    "div = []\n",
    "for cont in range(1,num+1):\n",
    "   if num % cont == 0:\n",
    "       div.append(cont)\n",
    "       contador += 1\n",
    "if contador == 2:\n",
    "    print('{} é primo!'.format(num))\n",
    "else:\n",
    "    print('{} não é primo!'.format(num))\n",
    "print(div)"
   ]
  },
  {
   "cell_type": "code",
   "execution_count": 33,
   "id": "6ecb3872-a19d-4ee5-a9ce-10cbcc8fde41",
   "metadata": {},
   "outputs": [
    {
     "name": "stdin",
     "output_type": "stream",
     "text": [
      " 17\n"
     ]
    },
    {
     "name": "stdout",
     "output_type": "stream",
     "text": [
      "0 1 1 2 3 5 8 13 21 34 55 89 144 233 377 610 987\n"
     ]
    }
   ],
   "source": [
    "num = int(input()) \n",
    "fibo1 = 0\n",
    "fibo2 = 1\n",
    "if num == 1:\n",
    "    print('{}'.format(fibo1), end=' ')\n",
    "if num >= 2:\n",
    "    print('{} {}'.format(fibo1, fibo2), end=' ')\n",
    "    cont = 3\n",
    "    while cont <= num:\n",
    "        if cont == num:\n",
    "            fibo3 = fibo1 + fibo2\n",
    "            print('{}'.format(fibo3))\n",
    "            break\n",
    "        else:\n",
    "            fibo3 = fibo1 + fibo2\n",
    "            fibo1 = fibo2\n",
    "            fibo2 = fibo3\n",
    "            print('{}'.format(fibo3), end=' ')\n",
    "            cont += 1"
   ]
  }
 ],
 "metadata": {
  "kernelspec": {
   "display_name": "Python 3 (ipykernel)",
   "language": "python",
   "name": "python3"
  },
  "language_info": {
   "codemirror_mode": {
    "name": "ipython",
    "version": 3
   },
   "file_extension": ".py",
   "mimetype": "text/x-python",
   "name": "python",
   "nbconvert_exporter": "python",
   "pygments_lexer": "ipython3",
   "version": "3.11.7"
  }
 },
 "nbformat": 4,
 "nbformat_minor": 5
}
