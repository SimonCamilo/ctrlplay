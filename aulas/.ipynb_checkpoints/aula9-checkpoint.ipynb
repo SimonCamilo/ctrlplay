{
 "cells": [
  {
   "cell_type": "code",
   "execution_count": 16,
   "id": "601bec96-626c-4f24-8fd8-56dd96c1f90b",
   "metadata": {},
   "outputs": [
    {
     "name": "stdout",
     "output_type": "stream",
     "text": [
      "8.0\n",
      "25.0\n",
      "3\n",
      "2\n"
     ]
    }
   ],
   "source": [
    "import math\n",
    "\n",
    "print(math.pow(2,3))\n",
    "\n",
    "print(math.sqrt(625))\n",
    "\n",
    "print(math.ceil(2.5))\n",
    "print(math.trunc(2.5))"
   ]
  },
  {
   "cell_type": "code",
   "execution_count": 27,
   "id": "cc8701c5-6ef2-4fcd-a608-1f5bb5549b59",
   "metadata": {},
   "outputs": [
    {
     "name": "stdout",
     "output_type": "stream",
     "text": [
      "o arquivo não existe\n"
     ]
    }
   ],
   "source": [
    "import os\n",
    "if os.path.exists(\"texto.txt\"):\n",
    "    os.remove(\"texto.txt\")\n",
    "else:\n",
    "    print(\"o arquivo não existe\")"
   ]
  },
  {
   "cell_type": "code",
   "execution_count": 29,
   "id": "23f298b2-0503-4c77-a4d8-9d7822eebec1",
   "metadata": {},
   "outputs": [
    {
     "name": "stdout",
     "output_type": "stream",
     "text": [
      "a pasta nao existe\n"
     ]
    }
   ],
   "source": [
    "import os\n",
    "if os.path.exists('pasta'):\n",
    "    os.rmdir('pasta')\n",
    "else:\n",
    "    print('a pasta nao existe')"
   ]
  },
  {
   "cell_type": "code",
   "execution_count": 38,
   "id": "5490542f-eee0-4fd2-93ef-9a9b1e0ce15b",
   "metadata": {},
   "outputs": [
    {
     "name": "stdout",
     "output_type": "stream",
     "text": [
      "['__doc__', '__loader__', '__name__', '__package__', '__spec__', 'acos', 'acosh', 'asin', 'asinh', 'atan', 'atan2', 'atanh', 'cbrt', 'ceil', 'comb', 'copysign', 'cos', 'cosh', 'degrees', 'dist', 'e', 'erf', 'erfc', 'exp', 'exp2', 'expm1', 'fabs', 'factorial', 'floor', 'fmod', 'frexp', 'fsum', 'gamma', 'gcd', 'hypot', 'inf', 'isclose', 'isfinite', 'isinf', 'isnan', 'isqrt', 'lcm', 'ldexp', 'lgamma', 'log', 'log10', 'log1p', 'log2', 'modf', 'nan', 'nextafter', 'perm', 'pi', 'pow', 'prod', 'radians', 'remainder', 'sin', 'sinh', 'sqrt', 'tan', 'tanh', 'tau', 'trunc', 'ulp']\n",
      "120\n",
      "3\n",
      "Help on built-in function floor in module math:\n",
      "\n",
      "floor(x, /)\n",
      "    Return the floor of x as an Integral.\n",
      "    \n",
      "    This is the largest integer <= x.\n",
      "\n",
      "5.0\n"
     ]
    }
   ],
   "source": [
    "import math\n",
    "\n",
    "print(dir(math))\n",
    "\n",
    "print(math.factorial(5))\n",
    "\n",
    "print(math.floor(3.14))\n",
    "\n",
    "help(math.floor)\n",
    "\n",
    "print(math.hypot(3.0,4.0))"
   ]
  },
  {
   "cell_type": "code",
   "execution_count": 49,
   "id": "ec0e20bf-d8e3-4e18-9405-290923065082",
   "metadata": {},
   "outputs": [
    {
     "name": "stdout",
     "output_type": "stream",
     "text": [
      "40\n",
      "1.0\n",
      "1.5855\n",
      "5.0\n",
      "8\n"
     ]
    }
   ],
   "source": [
    "import calculadora\n",
    "\n",
    "print(calculadora.adicao(30,10))\n",
    "print(calculadora.subtracao(30.0000,29.0000))\n",
    "print(calculadora.multiplicacoa(1.500,1.057))\n",
    "print(calculadora.divisao(500.000,100.000))\n",
    "print(calculadora.potencia(2,3))"
   ]
  },
  {
   "cell_type": "code",
   "execution_count": 57,
   "id": "c080305d-e41d-4d8f-bc79-e5e730e4f566",
   "metadata": {},
   "outputs": [
    {
     "name": "stdout",
     "output_type": "stream",
     "text": [
      "314.0\n"
     ]
    }
   ],
   "source": [
    "import matematica.geometria\n",
    "\n",
    "print(matematica.geometria.areacirculo(10))"
   ]
  },
  {
   "cell_type": "code",
   "execution_count": 59,
   "id": "16d67423-db85-416f-ada4-28291000a3bf",
   "metadata": {},
   "outputs": [
    {
     "data": {
      "text/plain": [
       "314.0"
      ]
     },
     "execution_count": 59,
     "metadata": {},
     "output_type": "execute_result"
    }
   ],
   "source": [
    "from matematica import geometria as g\n",
    "g.areacirculo(10)"
   ]
  }
 ],
 "metadata": {
  "kernelspec": {
   "display_name": "Python 3 (ipykernel)",
   "language": "python",
   "name": "python3"
  },
  "language_info": {
   "codemirror_mode": {
    "name": "ipython",
    "version": 3
   },
   "file_extension": ".py",
   "mimetype": "text/x-python",
   "name": "python",
   "nbconvert_exporter": "python",
   "pygments_lexer": "ipython3",
   "version": "3.11.7"
  }
 },
 "nbformat": 4,
 "nbformat_minor": 5
}
