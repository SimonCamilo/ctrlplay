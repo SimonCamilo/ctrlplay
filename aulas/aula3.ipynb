{
 "cells": [
  {
   "cell_type": "code",
   "execution_count": 107,
   "id": "82458592-4419-4807-8886-5210fe5318b9",
   "metadata": {},
   "outputs": [
    {
     "name": "stdout",
     "output_type": "stream",
     "text": [
      "['jose', 'lucas', 'ana', 'enzo', 'valentina']\n",
      "adicionando um convidado no final: ['jose', 'lucas', 'ana', 'enzo', 'valentina', 'andre']\n",
      "inserindo um convidado na pociçao 1: ['jose', 'ronaldo', 'lucas', 'ana', 'enzo', 'valentina', 'andre']\n",
      "removeu o segundo: ronaldo.confirmado: ['jose', 'lucas', 'ana', 'enzo', 'valentina', 'andre']\n",
      "ferias: andre.não vai pra festa. confirmado: ['jose', 'lucas', 'ana', 'enzo', 'valentina']\n",
      "colocando em ordem creciente: ['ana', 'enzo', 'jose', 'lucas', 'valentina']\n",
      "5\n",
      "['ana', 'enzo', 'jose', 'lucas']\n"
     ]
    }
   ],
   "source": [
    "convidados =['jose','lucas','ana','enzo','valentina']\n",
    "print(convidados)\n",
    "convidados.append('andre')\n",
    "print('adicionando um convidado no final: {}'.format(convidados))\n",
    "convidados.insert(1,'ronaldo')\n",
    "print('inserindo um convidado na pociçao 1: {}'.format(convidados))\n",
    "segundo=convidados.pop(1)\n",
    "print('removeu o segundo: {}.confirmado: {}'.format(segundo, convidados))\n",
    "ferias = 'andre'\n",
    "convidados.remove(ferias)\n",
    "print('ferias: {}.não vai pra festa. confirmado: {}'.format(ferias, convidados))\n",
    "convidados.sort()\n",
    "print('colocando em ordem creciente: {}'.format(convidados))\n",
    "print(len(convidados))\n",
    "print(convidados[0:4])"
   ]
  },
  {
   "cell_type": "code",
   "execution_count": 75,
   "id": "0da12fc9-47e5-4d57-bdb3-480fcb01a8eb",
   "metadata": {},
   "outputs": [
    {
     "name": "stdout",
     "output_type": "stream",
     "text": [
      "[32, 27, 38, 8, 14, 49]\n"
     ]
    }
   ],
   "source": [
    "from random import randint\n",
    "megasena=[randint(1,60),randint(1,60),randint(1,60),randint(1,60),randint(1,60),randint(1,60)]\n",
    "print(megasena)"
   ]
  },
  {
   "cell_type": "code",
   "execution_count": 1,
   "id": "455db8e0-6d20-4eb5-a40a-967bef0e1ca2",
   "metadata": {},
   "outputs": [
    {
     "name": "stdout",
     "output_type": "stream",
     "text": [
      "simon azul\n",
      "ronaldo azul claro\n",
      "heitor preto\n",
      "andre larnaja\n"
     ]
    }
   ],
   "source": [
    "nomexcores = [['simon','ronaldo','heitor','andre'],['azul','azul claro','preto','larnaja']]\n",
    "print('{} {}'.format(nomexcores [0] [0],nomexcores [1] [0]))\n",
    "print('{} {}'.format(nomexcores [0] [1],nomexcores [1] [1]))\n",
    "print('{} {}'.format(nomexcores [0] [2],nomexcores [1] [2]))\n",
    "print('{} {}'.format(nomexcores [0] [3],nomexcores [1] [3]))"
   ]
  },
  {
   "cell_type": "code",
   "execution_count": 3,
   "id": "1d670064-2f2b-4cb4-83ff-1f1ac268f41f",
   "metadata": {},
   "outputs": [
    {
     "name": "stdin",
     "output_type": "stream",
     "text": [
      "digite um numero 3\n"
     ]
    },
    {
     "name": "stdout",
     "output_type": "stream",
     "text": [
      "[3, 6, 9, 12, 15, 18, 21, 24, 27, 30]\n"
     ]
    }
   ],
   "source": [
    "num = int(input('digite um numero'))\n",
    "lista = []\n",
    "lista.append(num*1)\n",
    "lista.append(num*2)\n",
    "lista.append(num*3)\n",
    "lista.append(num*4)\n",
    "lista.append(num*5)\n",
    "lista.append(num*6)\n",
    "lista.append(num*7)\n",
    "lista.append(num*8)\n",
    "lista.append(num*9)\n",
    "lista.append(num*10)\n",
    "print(lista)"
   ]
  },
  {
   "cell_type": "code",
   "execution_count": 21,
   "id": "2de4e004-984f-4cd3-ab8a-1c01b5283be9",
   "metadata": {},
   "outputs": [
    {
     "name": "stdin",
     "output_type": "stream",
     "text": [
      "digite um numero 2\n"
     ]
    },
    {
     "name": "stdout",
     "output_type": "stream",
     "text": [
      "[4, 8, 16, 32, 64, 128, 256, 512, 1024, 2048]\n"
     ]
    }
   ],
   "source": [
    "num = int(input('digite um numero'))\n",
    "n=[0] * 10\n",
    "n[0] = num *2\n",
    "n[1]= 2* n[0]\n",
    "n[2]= 2* n[1]\n",
    "n[3]= 2* n[2]\n",
    "n[4]= 2* n[3]\n",
    "n[5]= 2* n[4]\n",
    "n[6]= 2* n[5]\n",
    "n[7]= 2* n[6]\n",
    "n[8]= 2* n[7]\n",
    "n[9]= 2* n[8]\n",
    "print(n)"
   ]
  },
  {
   "cell_type": "code",
   "execution_count": 33,
   "id": "1f4fb04f-6642-4c61-8071-3bc19944ab77",
   "metadata": {
    "scrolled": true
   },
   "outputs": [
    {
     "name": "stdin",
     "output_type": "stream",
     "text": [
      "digite um numero 2\n"
     ]
    },
    {
     "name": "stdout",
     "output_type": "stream",
     "text": [
      "n[0]=2\n",
      "n[1]=4\n",
      "n[2]=8\n",
      "n[3]=16\n",
      "n[4]=32\n",
      "n[5]=64\n",
      "n[6]=128\n",
      "n[7]=256\n",
      "n[8]=512\n",
      "n[9]=1024\n"
     ]
    }
   ],
   "source": [
    "num = int(input('digite um numero'))\n",
    "n=[num*1,num*2,num*2**2,num*2**3,num*2**4,num*2**5,num*2**6,num*2**7,num*2**8,num*2**9]\n",
    "print('n[0]={}'.format(n[0]))\n",
    "print('n[1]={}'.format(n[1]))\n",
    "print('n[2]={}'.format(n[2]))\n",
    "print('n[3]={}'.format(n[3]))\n",
    "print('n[4]={}'.format(n[4]))\n",
    "print('n[5]={}'.format(n[5]))\n",
    "print('n[6]={}'.format(n[6]))\n",
    "print('n[7]={}'.format(n[7]))\n",
    "print('n[8]={}'.format(n[8]))\n",
    "print('n[9]={}'.format(n[9]))"
   ]
  },
  {
   "cell_type": "code",
   "execution_count": 50,
   "id": "0f80f512-f70a-4c1a-b9d3-60b0494db70d",
   "metadata": {},
   "outputs": [
    {
     "name": "stdin",
     "output_type": "stream",
     "text": [
      " 1\n",
      " 22\n",
      " 33\n",
      " 44\n",
      " 55\n",
      " 66\n",
      " 77\n",
      " 8\n",
      " 88\n",
      " 55\n",
      " 333\n",
      " 22\n",
      " 44\n",
      " 66\n",
      " 33\n",
      " 44\n",
      " 55\n",
      " 88\n",
      " 99\n",
      " 11\n",
      " 22\n"
     ]
    },
    {
     "name": "stdout",
     "output_type": "stream",
     "text": [
      "n[0]=22\n",
      "n[1]=11\n",
      "n[2]=99\n",
      "n[3]=88\n",
      "n[4]=55\n",
      "n[5]=44\n",
      "n[6]=33\n",
      "n[7]=66\n",
      "n[8]=44\n",
      "n[9]=22\n",
      "n[10]=333\n",
      "n[11]=55\n",
      "n[12]=88\n",
      "n[13]=8\n",
      "n[14]=77\n",
      "n[15]=66\n",
      "n[16]=55\n",
      "n[17]=44\n",
      "n[18]=33\n",
      "n[19]=1\n"
     ]
    }
   ],
   "source": [
    "n1=int(input())\n",
    "n2=int(input())\n",
    "n2=int(input())\n",
    "n3=int(input())\n",
    "n4=int(input())\n",
    "n5=int(input())\n",
    "n6=int(input())\n",
    "n7=int(input())\n",
    "n8=int(input())\n",
    "n9=int(input())\n",
    "n10=int(input())\n",
    "n11=int(input())\n",
    "n12=int(input())\n",
    "n13=int(input())\n",
    "n14=int(input())\n",
    "n15=int(input())\n",
    "n16=int(input())\n",
    "n17=int(input())\n",
    "n18=int(input())\n",
    "n19=int(input())\n",
    "n20=int(input())\n",
    "lista=[n1,n2,n3,n4,n5,n6,n7,n8,n9,n10,n11,n12,n13,n14,n15,n16,n17,n18,n19,n20]\n",
    "lista.reverse()\n",
    "print('N[0] = {}'.format(lista[0]))\n",
    "print('N[1] = {}'.format(lista[1]))\n",
    "print('N[2] = {}'.format(lista[2]))\n",
    "print('N[3] = {}'.format(lista[3]))\n",
    "print('N[4] = {}'.format(lista[4]))\n",
    "print('N[5] = {}'.format(lista[5]))\n",
    "print('N[6] = {}'.format(lista[6]))\n",
    "print('N[7] = {}'.format(lista[7]))\n",
    "print('N[8] = {}'.format(lista[8]))\n",
    "print('N[9] = {}'.format(lista[9]))\n",
    "print('N[10] = {}'.format(lista[10]))\n",
    "print('N[11] = {}'.format(lista[11]))\n",
    "print('N[12] = {}'.format(lista[12]))\n",
    "print('N[13] = {}'.format(lista[13]))\n",
    "print('N[14] = {}'.format(lista[14]))\n",
    "print('N[15] = {}'.format(lista[15]))\n",
    "print('N[16] = {}'.format(lista[16]))\n",
    "print('N[17] = {}'.format(lista[17]))\n",
    "print('N[18] = {}'.format(lista[18]))\n",
    "print('N[19] = {}'.format(lista[19]))"
   ]
  }
 ],
 "metadata": {
  "kernelspec": {
   "display_name": "Python 3 (ipykernel)",
   "language": "python",
   "name": "python3"
  },
  "language_info": {
   "codemirror_mode": {
    "name": "ipython",
    "version": 3
   },
   "file_extension": ".py",
   "mimetype": "text/x-python",
   "name": "python",
   "nbconvert_exporter": "python",
   "pygments_lexer": "ipython3",
   "version": "3.11.7"
  }
 },
 "nbformat": 4,
 "nbformat_minor": 5
}
