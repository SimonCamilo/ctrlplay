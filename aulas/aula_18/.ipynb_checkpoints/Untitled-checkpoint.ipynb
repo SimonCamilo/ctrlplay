{
 "cells": [
  {
   "cell_type": "code",
   "execution_count": 22,
   "id": "ac07348d-c87c-4fb6-ab8b-38d64f3a41a3",
   "metadata": {},
   "outputs": [
    {
     "name": "stdout",
     "output_type": "stream",
     "text": [
      "15\n",
      "15:44:23.740848\n",
      "2024-09-26 15:44:23.740848\n"
     ]
    }
   ],
   "source": [
    "from datetime import datetime, time\n",
    "hora_atual =  datetime.now().time().hour\n",
    "print(hora_atual)\n",
    "hora_min = datetime.now().time()\n",
    "print(hora_min)\n",
    "data_atual = datetime.now()\n",
    "print(data_atual)"
   ]
  }
 ],
 "metadata": {
  "kernelspec": {
   "display_name": "Python 3 (ipykernel)",
   "language": "python",
   "name": "python3"
  },
  "language_info": {
   "codemirror_mode": {
    "name": "ipython",
    "version": 3
   },
   "file_extension": ".py",
   "mimetype": "text/x-python",
   "name": "python",
   "nbconvert_exporter": "python",
   "pygments_lexer": "ipython3",
   "version": "3.11.7"
  }
 },
 "nbformat": 4,
 "nbformat_minor": 5
}
