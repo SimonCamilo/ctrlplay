{
 "cells": [
  {
   "cell_type": "code",
   "execution_count": 2,
   "id": "e44dc011-6462-41e7-ae7c-d5c72ee1b700",
   "metadata": {},
   "outputs": [],
   "source": [
    "class Casa():\n",
    "    rua = 'avenida winston churchill'\n",
    "    bairro = 'capão Raso'\n",
    "    cep = '8113000'\n",
    "\n",
    "    def enderecoCompleto(self):\n",
    "        return 'endereço completo: {}, {} - cep: {}'.format(self.rua, self.bairro,self.cep)"
   ]
  }
 ],
 "metadata": {
  "kernelspec": {
   "display_name": "Python 3 (ipykernel)",
   "language": "python",
   "name": "python3"
  },
  "language_info": {
   "codemirror_mode": {
    "name": "ipython",
    "version": 3
   },
   "file_extension": ".py",
   "mimetype": "text/x-python",
   "name": "python",
   "nbconvert_exporter": "python",
   "pygments_lexer": "ipython3",
   "version": "3.11.7"
  }
 },
 "nbformat": 4,
 "nbformat_minor": 5
}
