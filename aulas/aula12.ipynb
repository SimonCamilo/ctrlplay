{
 "cells": [
  {
   "cell_type": "code",
   "execution_count": 2,
   "id": "e44dc011-6462-41e7-ae7c-d5c72ee1b700",
   "metadata": {},
   "outputs": [],
   "source": [
    "class Casa():\n",
    "    rua = 'avenida winston churchill'\n",
    "    bairro = 'capão Raso'\n",
    "    cep = '8113000'\n",
    "\n",
    "    def enderecoCompleto(self):\n",
    "        return 'endereço completo: {}, {} - cep: {}'.format(self.rua, self.bairro,self.cep)"
   ]
  },
  {
   "cell_type": "code",
   "execution_count": null,
   "id": "c5d99be5-6af0-41d0-b895-986ff3ae0fa4",
   "metadata": {},
   "outputs": [
    {
     "name": "stdin",
     "output_type": "stream",
     "text": [
      "qual é o nome do seu personagem ale\n"
     ]
    },
    {
     "name": "stdout",
     "output_type": "stream",
     "text": [
      "bemvindo, ale. voçe entrou neste mundo\n",
      "\n",
      "            [Opçoes]\n",
      "            [1] seguir em frente e entrar na mansao abandonada\n",
      "            [2] mostrar status\n",
      "            [3]procurar item\n",
      "            [4]sair\n",
      "            \n"
     ]
    },
    {
     "name": "stdin",
     "output_type": "stream",
     "text": [
      "Qual é a sua opçao 1\n"
     ]
    },
    {
     "name": "stdout",
     "output_type": "stream",
     "text": [
      "cuidado. guarda te viu!\n",
      "\n",
      "            [1] atacar\n",
      "            [2]fugir\n",
      "            \n"
     ]
    },
    {
     "name": "stdin",
     "output_type": "stream",
     "text": [
      "qual a sua opcao? 1\n"
     ]
    },
    {
     "name": "stdout",
     "output_type": "stream",
     "text": [
      "ale casou 5 de dano\n",
      "guarda causo 0 de dano em vc\n",
      "\n",
      "            [1] atacar\n",
      "            [2]fugir\n",
      "            \n"
     ]
    },
    {
     "name": "stdin",
     "output_type": "stream",
     "text": [
      "qual a sua opcao? 1\n"
     ]
    },
    {
     "name": "stdout",
     "output_type": "stream",
     "text": [
      "ale casou 5 de dano\n",
      "guarda causo 0 de dano em vc\n",
      "\n",
      "            [1] atacar\n",
      "            [2]fugir\n",
      "            \n"
     ]
    },
    {
     "name": "stdin",
     "output_type": "stream",
     "text": [
      "qual a sua opcao? 1\n"
     ]
    },
    {
     "name": "stdout",
     "output_type": "stream",
     "text": [
      "ale casou 5 de dano\n",
      "guarda causo 0 de dano em vc\n",
      "\n",
      "            [1] atacar\n",
      "            [2]fugir\n",
      "            \n"
     ]
    },
    {
     "name": "stdin",
     "output_type": "stream",
     "text": [
      "qual a sua opcao? 1\n"
     ]
    },
    {
     "name": "stdout",
     "output_type": "stream",
     "text": [
      "ale casou 5 de dano\n",
      "ganhou\n",
      "\n",
      "            [Opçoes]\n",
      "            [1] seguir em frente e entrar na mansao abandonada\n",
      "            [2] mostrar status\n",
      "            [3]procurar item\n",
      "            [4]sair\n",
      "            \n"
     ]
    }
   ],
   "source": [
    "import random\n",
    "\n",
    "class Jogador():\n",
    "    \n",
    "    def __init__(self, nome):\n",
    "        self.nome = nome\n",
    "        self.vida = 20\n",
    "        self.ataque = 17\n",
    "        self.defesa = 20\n",
    "        self.itens = []\n",
    "    def atacar(self,inimigo):\n",
    "        dano = max(0, self.ataque - inimigo.defesa)\n",
    "        inimigo.vida = inimigo.vida - dano\n",
    "        print('{} casou {} de dano'.format(self.nome, dano))\n",
    "\n",
    "    def mostrarStatus(self):\n",
    "        print('status')\n",
    "        print('Nome: {}'.format(self.nome))\n",
    "        print('ataque: {}'.format(self.ataque))\n",
    "        print('defesa: {}'.format(self.defesa))\n",
    "        print('vida: {}'.format(self.vida))\n",
    "        print('itens: {}'.format(self.itens))\n",
    "\n",
    "    def pegarItens(self, item_encontrado):\n",
    "        self.itens.append(item_encontrado)\n",
    "        print('vc pegou o/uma {}'.format(item_encontrado))\n",
    "class Inimigo():\n",
    "\n",
    "    def __init__(self,nome, vida, ataque, defesa):\n",
    "        self.nome = nome\n",
    "        self.vida = vida\n",
    "        self.ataque = ataque\n",
    "        self.defesa = defesa\n",
    "\n",
    "    def atacar(self, jogador):\n",
    "        dano = max(0, self.ataque - jogador.defesa)\n",
    "        jogador.vida = jogador.vida - dano\n",
    "        print('{} causo {} de dano em vc'.format(self.nome, dano))\n",
    "class Mundo():\n",
    "\n",
    "    def __init__(self,jogador, inimigos):\n",
    "        self.jogador = jogador\n",
    "        self.inimigo = random.choice(inimigos)\n",
    "        self.itens = ['pergaminho de magia negra','espada de brinquedo', 'pocao de cura']\n",
    "    def jogar(self):\n",
    "        while True:\n",
    "            print ('''\n",
    "            [Opçoes]\n",
    "            [1] seguir em frente e entrar na mansao abandonada\n",
    "            [2] mostrar status\n",
    "            [3]procurar item\n",
    "            [4]sair\n",
    "            ''')\n",
    "            \n",
    "            opcao = input('Qual é a sua opçao')\n",
    "            if opcao == '1' :\n",
    "                self.enfrentarInimigo()\n",
    "            elif opcao == '2' :\n",
    "                self.jogador.mostrarStatus()\n",
    "            elif opcao == '3' :\n",
    "                self.procurarItens()\n",
    "            else:\n",
    "                print('obrigado por jogar')\n",
    "                break\n",
    "    def enfrentarInimigo(self):\n",
    "        self.setInimigo(inimigos)\n",
    "        print('cuidado. {} te viu!'.format(self.inimigo.nome))   \n",
    "        while self.jogador.vida > 0 and self.inimigo.vida > 0:\n",
    "            print('''\n",
    "            [1] atacar\n",
    "            [2]fugir\n",
    "            ''')\n",
    "            opcao = input('qual a sua opcao?')\n",
    "            if opcao == '1':\n",
    "                self.jogador.atacar(self.inimigos)\n",
    "                if self.inimigo.vida > 0:\n",
    "                    self.inimigo.atacar(self.jogador)\n",
    "            elif opcao == '2':\n",
    "                print('fugio da mansao!')\n",
    "                break\n",
    "            else:\n",
    "                print('invalido. digite novamente')\n",
    "            if self.jogador.vida < 0:\n",
    "                print('game over!')\n",
    "                \n",
    "            if self.inimigo.vida <0:    \n",
    "                print('ganhou')\n",
    "\n",
    "    def procurarItens(self):\n",
    "        item_encontrado = random.choice(self.itens)\n",
    "        self.jogador.pegarItens(item_encontrado)\n",
    "        \n",
    "    def setInimigo(self,inimigos):\n",
    "        self.inimigos = random.choice(inimigos)\n",
    "        \n",
    "#inicio\n",
    "nome_jogador = input('qual é o nome do seu personagem')\n",
    "print('bemvindo, {}. voçe entrou neste mundo'.format(nome_jogador))\n",
    "jogador = Jogador(nome_jogador)\n",
    "\n",
    "inimigos = [Inimigo('esqueleto',14,21,9), Inimigo('sakuya',20,16,20), Inimigo('guarda',19,15,12)]\n",
    "\n",
    "jogo = Mundo(jogador, inimigos)\n",
    "jogo.jogar()"
   ]
  }
 ],
 "metadata": {
  "kernelspec": {
   "display_name": "Python 3 (ipykernel)",
   "language": "python",
   "name": "python3"
  },
  "language_info": {
   "codemirror_mode": {
    "name": "ipython",
    "version": 3
   },
   "file_extension": ".py",
   "mimetype": "text/x-python",
   "name": "python",
   "nbconvert_exporter": "python",
   "pygments_lexer": "ipython3",
   "version": "3.11.7"
  }
 },
 "nbformat": 4,
 "nbformat_minor": 5
}
