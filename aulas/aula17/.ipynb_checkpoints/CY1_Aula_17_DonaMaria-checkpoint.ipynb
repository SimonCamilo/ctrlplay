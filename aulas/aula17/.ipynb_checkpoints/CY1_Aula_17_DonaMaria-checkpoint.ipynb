{
 "cells": [
  {
   "cell_type": "code",
   "execution_count": 7,
   "id": "5e4cbf29-3db7-45fe-aa89-b7f33e5c6379",
   "metadata": {},
   "outputs": [
    {
     "name": "stdout",
     "output_type": "stream",
     "text": [
      "oi, tudo bem?\n"
     ]
    },
    {
     "name": "stdin",
     "output_type": "stream",
     "text": [
      "Cliente:  Se você pudesse inventar um sabor de sorvete, qual seria? \n"
     ]
    },
    {
     "ename": "ValueError",
     "evalue": "I/O operation on closed file.",
     "output_type": "error",
     "traceback": [
      "\u001b[1;31m---------------------------------------------------------------------------\u001b[0m",
      "\u001b[1;31mValueError\u001b[0m                                Traceback (most recent call last)",
      "Cell \u001b[1;32mIn[7], line 7\u001b[0m\n\u001b[0;32m      5\u001b[0m \u001b[38;5;28;01mwhile\u001b[39;00m \u001b[38;5;28;01mTrue\u001b[39;00m:\n\u001b[0;32m      6\u001b[0m     texto \u001b[38;5;241m=\u001b[39m pc\u001b[38;5;241m.\u001b[39mrecebeTexto(nome_maquina)\n\u001b[1;32m----> 7\u001b[0m     resposta \u001b[38;5;241m=\u001b[39m pc\u001b[38;5;241m.\u001b[39mbuscaResposta(nome_maquina, texto)\n\u001b[0;32m      8\u001b[0m     \u001b[38;5;28;01mif\u001b[39;00m pc\u001b[38;5;241m.\u001b[39mexibeResposta(resposta, nome_maquina) \u001b[38;5;241m==\u001b[39m \u001b[38;5;124m'\u001b[39m\u001b[38;5;124mfim\u001b[39m\u001b[38;5;124m'\u001b[39m:\n\u001b[0;32m      9\u001b[0m         \u001b[38;5;28;01mbreak\u001b[39;00m\n",
      "File \u001b[1;32m~\\Documents\\simon\\github\\ctrlplay\\aulas\\aula17\\CY1_Aula_17_ChatbotBase.py:26\u001b[0m, in \u001b[0;36mbuscaResposta\u001b[1;34m(nome, texto)\u001b[0m\n\u001b[0;32m     24\u001b[0m     c\u001b[38;5;241m.\u001b[39mseek(\u001b[38;5;241m0\u001b[39m)\n\u001b[0;32m     25\u001b[0m \u001b[38;5;28;01mwhile\u001b[39;00m \u001b[38;5;28;01mTrue\u001b[39;00m:\n\u001b[1;32m---> 26\u001b[0m     viu \u001b[38;5;241m=\u001b[39m c\u001b[38;5;241m.\u001b[39mreadline()\n\u001b[0;32m     27\u001b[0m     \u001b[38;5;28;01mif\u001b[39;00m viu \u001b[38;5;241m!=\u001b[39m \u001b[38;5;124m'\u001b[39m\u001b[38;5;124m'\u001b[39m:\n\u001b[0;32m     28\u001b[0m         \u001b[38;5;28;01mif\u001b[39;00m texto\u001b[38;5;241m.\u001b[39mreplace(\u001b[38;5;124m'\u001b[39m\u001b[38;5;124mCliente: \u001b[39m\u001b[38;5;124m'\u001b[39m,\u001b[38;5;124m'\u001b[39m\u001b[38;5;124m'\u001b[39m) \u001b[38;5;241m==\u001b[39m \u001b[38;5;124m'\u001b[39m\u001b[38;5;124mTchau\u001b[39m\u001b[38;5;124m'\u001b[39m:\n",
      "\u001b[1;31mValueError\u001b[0m: I/O operation on closed file."
     ]
    }
   ],
   "source": [
    "import CY1_Aula_17_ChatbotBase as pc\n",
    "\n",
    "nome_maquina = 'Maria'\n",
    "pc.saudacoes(nome_maquina)\n",
    "while True:\n",
    "    texto = pc.recebeTexto(nome_maquina)\n",
    "    resposta = pc.buscaResposta(nome_maquina, texto)\n",
    "    if pc.exibeResposta(resposta, nome_maquina) == 'fim':\n",
    "        break"
   ]
  }
 ],
 "metadata": {
  "kernelspec": {
   "display_name": "Python 3 (ipykernel)",
   "language": "python",
   "name": "python3"
  },
  "language_info": {
   "codemirror_mode": {
    "name": "ipython",
    "version": 3
   },
   "file_extension": ".py",
   "mimetype": "text/x-python",
   "name": "python",
   "nbconvert_exporter": "python",
   "pygments_lexer": "ipython3",
   "version": "3.11.7"
  }
 },
 "nbformat": 4,
 "nbformat_minor": 5
}
