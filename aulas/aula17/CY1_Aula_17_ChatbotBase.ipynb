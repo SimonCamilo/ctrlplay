{
 "cells": [
  {
   "cell_type": "code",
   "execution_count": 1,
   "id": "c3c7ed85-a395-47b8-b1eb-db2d9179f009",
   "metadata": {},
   "outputs": [],
   "source": [
    "def saudacoes(nome):\n",
    "    import random\n",
    "    frases = ['Bom dia! Meu nome é {}. como vai voce'.format(nome),\n",
    "             'ola!', 'oi, tudo bem?']\n",
    "    print(frases[random.randint(0,2)])\n",
    "\n",
    "def recebeTexto(nome):\n",
    "    texto = 'Cliente: ' + input('Cliente: ')\n",
    "    palavraProibida = [\"bocó\",\"vagabunda\",\"vagabundo\"]\n",
    "    for p in palavraProibida:\n",
    "        if p in texto:\n",
    "            print('{}: não vem não! me respeite!'.format(nome))\n",
    "            return recebeTexto(nome)\n",
    "        return texto\n",
    "\n",
    "def buscaResposta(nome, texto):\n",
    "    with open('CY1_Aula17_BaseConhecimento.txt','a+') as c:\n",
    "        c.seek(0)\n",
    "    while True:\n",
    "        viu = c.readline()\n",
    "        if viu != '':\n",
    "            if texto.replace('Cliente: ','') == 'Tchau':\n",
    "                print('{}: volte sempre!'.format(nome))\n",
    "                return 'fim'\n",
    "            elif viu.strip() == texto.strip():\n",
    "                proximalinha = c.readline()\n",
    "                if 'Chatbot: ' in  proximalinha:\n",
    "                    return proximalinha\n",
    "        else:\n",
    "            print('{}: Me desculpa, nao sei o que flar'.format(nome))\n",
    "            c.write('\\n{}'.format(texto))\n",
    "            respostas_user = input(('{}: o queresperava?\\n'.format(nome)))\n",
    "            c.write('n\\Chatbot: {}'.format(resposta_user))\n",
    "            return 'Hum...'\n",
    "\n",
    "def exibeResposta(resposta, nome):\n",
    "    print(resposta.replace(\"Chatbot\",nome))\n",
    "    if resposta == 'fim':\n",
    "        return \"fim\"\n",
    "    return \"continua\""
   ]
  }
 ],
 "metadata": {
  "kernelspec": {
   "display_name": "Python 3 (ipykernel)",
   "language": "python",
   "name": "python3"
  },
  "language_info": {
   "codemirror_mode": {
    "name": "ipython",
    "version": 3
   },
   "file_extension": ".py",
   "mimetype": "text/x-python",
   "name": "python",
   "nbconvert_exporter": "python",
   "pygments_lexer": "ipython3",
   "version": "3.11.7"
  }
 },
 "nbformat": 4,
 "nbformat_minor": 5
}
