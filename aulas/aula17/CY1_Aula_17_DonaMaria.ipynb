{
 "cells": [
  {
   "cell_type": "code",
   "execution_count": 2,
   "id": "5e4cbf29-3db7-45fe-aa89-b7f33e5c6379",
   "metadata": {},
   "outputs": [
    {
     "name": "stdout",
     "output_type": "stream",
     "text": [
      "Bom dia! Meu nome é Maria. Como vai você?\n"
     ]
    },
    {
     "name": "stdin",
     "output_type": "stream",
     "text": [
      "Cliente:  Qual a sua comida favorita?\n"
     ]
    },
    {
     "name": "stdout",
     "output_type": "stream",
     "text": [
      "Maria: Macarrão\n"
     ]
    },
    {
     "name": "stdin",
     "output_type": "stream",
     "text": [
      "Cliente:  Dicas de viagem no inverno\n"
     ]
    },
    {
     "name": "stdout",
     "output_type": "stream",
     "text": [
      "Maria: Me desculpe, não sei o que falar\n"
     ]
    },
    {
     "name": "stdin",
     "output_type": "stream",
     "text": [
      "Maria: O que esperava?\n",
      " Viagens para serras, natureza ou compras.\n"
     ]
    },
    {
     "name": "stdout",
     "output_type": "stream",
     "text": [
      "Hum...\n"
     ]
    },
    {
     "name": "stdin",
     "output_type": "stream",
     "text": [
      "Cliente:  Dicas de viagem no inverno\n"
     ]
    },
    {
     "name": "stdout",
     "output_type": "stream",
     "text": [
      "Maria: Viagens para serras, natureza ou compras.\n"
     ]
    },
    {
     "name": "stdin",
     "output_type": "stream",
     "text": [
      "Cliente:  Tchau\n"
     ]
    },
    {
     "name": "stdout",
     "output_type": "stream",
     "text": [
      "Maria: volte sempre!\n",
      "fim\n"
     ]
    }
   ],
   "source": [
    "import CY1_Aula_17_ChatbotBase as pc\n",
    "\n",
    "nome_maquina = 'Maria'\n",
    "pc.saudacoes(nome_maquina)\n",
    "while True:\n",
    "    texto = pc.recebeTexto(nome_maquina)\n",
    "    resposta = pc.buscaResposta(nome_maquina, texto)\n",
    "    if pc.exibeResposta(resposta, nome_maquina) == 'fim':\n",
    "        break"
   ]
  }
 ],
 "metadata": {
  "kernelspec": {
   "display_name": "Python 3 (ipykernel)",
   "language": "python",
   "name": "python3"
  },
  "language_info": {
   "codemirror_mode": {
    "name": "ipython",
    "version": 3
   },
   "file_extension": ".py",
   "mimetype": "text/x-python",
   "name": "python",
   "nbconvert_exporter": "python",
   "pygments_lexer": "ipython3",
   "version": "3.11.7"
  }
 },
 "nbformat": 4,
 "nbformat_minor": 5
}
