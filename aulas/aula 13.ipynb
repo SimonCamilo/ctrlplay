{
 "cells": [
  {
   "cell_type": "code",
   "execution_count": 96,
   "id": "e73b0e43-b24a-4b4f-91cd-858a4bf7083c",
   "metadata": {},
   "outputs": [
    {
     "name": "stdout",
     "output_type": "stream",
     "text": [
      "100\n",
      "35\n",
      "25\n",
      "100\n"
     ]
    },
    {
     "name": "stdin",
     "output_type": "stream",
     "text": [
      "digite a senha 3\n"
     ]
    },
    {
     "name": "stdout",
     "output_type": "stream",
     "text": [
      "invalido\n"
     ]
    },
    {
     "name": "stdin",
     "output_type": "stream",
     "text": [
      "digite novamente 3\n"
     ]
    },
    {
     "name": "stdout",
     "output_type": "stream",
     "text": [
      "invalido\n"
     ]
    },
    {
     "name": "stdin",
     "output_type": "stream",
     "text": [
      "digite novamente 3\n"
     ]
    },
    {
     "name": "stdout",
     "output_type": "stream",
     "text": [
      "invalido\n"
     ]
    },
    {
     "name": "stdin",
     "output_type": "stream",
     "text": [
      "digite novamente 3\n"
     ]
    },
    {
     "name": "stdout",
     "output_type": "stream",
     "text": [
      "invalido\n"
     ]
    },
    {
     "name": "stdin",
     "output_type": "stream",
     "text": [
      "digite novamente 5674321\n"
     ]
    },
    {
     "name": "stdout",
     "output_type": "stream",
     "text": [
      "40\n"
     ]
    }
   ],
   "source": [
    "class Jogador():\n",
    "    vida = 100\n",
    "    __ataque = 35\n",
    "    __defesa = 25\n",
    "    def __init__(self):\n",
    "        print(self.vida)\n",
    "        print(self.__ataque)\n",
    "        print(self.__defesa)\n",
    "    def setAtaque(self,a):\n",
    "        self.__ataque = a\n",
    "    def getAtaque(self):\n",
    "        return self.__ataque\n",
    "\n",
    "jogador = Jogador()\n",
    "print(jogador.vida)\n",
    "senha = \"5674321\"\n",
    "senha = input('digite a senha')\n",
    "while senha!= '5674321':\n",
    "    print('invalido')\n",
    "    senha = input('digite novamente')\n",
    "jogador.setAtaque(40)\n",
    "print(jogador.getAtaque())"
   ]
  },
  {
   "cell_type": "code",
   "execution_count": 98,
   "id": "1c5c441e-8a13-4264-80df-0c69df487a14",
   "metadata": {},
   "outputs": [
    {
     "name": "stdout",
     "output_type": "stream",
     "text": [
      "carro 1 ton corre\n",
      "aviao 50 ton voa\n",
      "navio 60 ton navegar\n"
     ]
    }
   ],
   "source": [
    "class MeioTransporte():\n",
    "\n",
    "    def __init__(self, tipo, peso):\n",
    "        self.tipo = tipo \n",
    "        self.peso = peso\n",
    "    def mover(self):\n",
    "        pass\n",
    "class Rodoviario(MeioTransporte):\n",
    "\n",
    "    def mover(self):\n",
    "        return 'corre'\n",
    "\n",
    "class Aereo(MeioTransporte):\n",
    "\n",
    "    def mover(self):\n",
    "        return 'voa'\n",
    "\n",
    "class Maritimo(MeioTransporte):\n",
    "\n",
    "    def mover(self):\n",
    "        return 'navegar'\n",
    "\n",
    "c = Rodoviario('carro' ,'1 ton')\n",
    "print(c.tipo, c.peso, c.mover())\n",
    "\n",
    "a = Aereo('aviao', '50 ton')\n",
    "print(a.tipo, a.peso, a.mover())\n",
    "\n",
    "m = Maritimo('navio', '60 ton')\n",
    "print(m.tipo, m.peso, m.mover())"
   ]
  },
  {
   "cell_type": "code",
   "execution_count": 116,
   "id": "ecfec486-96c3-4d0b-bf36-e1cd5ef9ce63",
   "metadata": {},
   "outputs": [
    {
     "name": "stdin",
     "output_type": "stream",
     "text": [
      "crie uma senha:  123\n",
      "digite sua senha: 14\n",
      "Senha invalida tente novamente:  123\n",
      "valor do saque:  50\n",
      "valor do pix:  100\n"
     ]
    },
    {
     "name": "stdout",
     "output_type": "stream",
     "text": [
      "Saldo final: R$ 850.000000\n"
     ]
    }
   ],
   "source": [
    "class Banco():\n",
    "\n",
    "    def __init__(self, nome, saldo_inicial):\n",
    "        self.nome = nome\n",
    "        self.saldo = saldo_inicial\n",
    "\n",
    "    def enviarPix(self):\n",
    "        pix = float(input('valor do pix: '))\n",
    "        self.saldo -= pix\n",
    "\n",
    "    def sacarDinheiro(self):\n",
    "        saque = float(input('valor do saque: '))\n",
    "        self.saldo -= saque\n",
    "    \n",
    "    def getSaldo(self):\n",
    "        return self.saldo\n",
    "\n",
    "    def getSenha(self):\n",
    "        return self.senha\n",
    "\n",
    "    def setSenha(self, s):\n",
    "        self.senha = s\n",
    "\n",
    "c1 = Banco('x',1000)\n",
    "c1.setSenha(input('crie uma senha: '))\n",
    "senha = input('digite sua senha:')\n",
    "while senha != c1.getSenha():\n",
    "    senha = input('Senha invalida tente novamente: ')\n",
    "c1.sacarDinheiro()\n",
    "c1.enviarPix()\n",
    "print('Saldo final: R$ {:2f}'.format(c1.getSaldo()))"
   ]
  }
 ],
 "metadata": {
  "kernelspec": {
   "display_name": "Python 3 (ipykernel)",
   "language": "python",
   "name": "python3"
  },
  "language_info": {
   "codemirror_mode": {
    "name": "ipython",
    "version": 3
   },
   "file_extension": ".py",
   "mimetype": "text/x-python",
   "name": "python",
   "nbconvert_exporter": "python",
   "pygments_lexer": "ipython3",
   "version": "3.11.7"
  }
 },
 "nbformat": 4,
 "nbformat_minor": 5
}
