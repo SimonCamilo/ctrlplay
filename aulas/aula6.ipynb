{
 "cells": [
  {
   "cell_type": "code",
   "execution_count": 6,
   "id": "84d62409-afce-481e-8bed-a05017573272",
   "metadata": {},
   "outputs": [
    {
     "name": "stdout",
     "output_type": "stream",
     "text": [
      "[2]\n",
      "('tres', True, 4.5)\n",
      "[4]\n",
      "(4.5,)\n"
     ]
    }
   ],
   "source": [
    "t = ('um', 2, 'tres', True, 4.5, 'cinco', False)\n",
    "print([2])\n",
    "print(t[2:5])\n",
    "print([4])\n",
    "print(t[4:5])"
   ]
  },
  {
   "cell_type": "code",
   "execution_count": null,
   "id": "bb982e9e-2095-40a6-8640-3e15b1b91229",
   "metadata": {},
   "outputs": [],
   "source": []
  },
  {
   "cell_type": "code",
   "execution_count": 24,
   "id": "a80d9667-ed6f-4bb8-9057-b8e45bcf7e36",
   "metadata": {},
   "outputs": [
    {
     "name": "stdout",
     "output_type": "stream",
     "text": [
      "10\n",
      "6\n",
      "1\n",
      "-----------------------------------------------\n",
      "{1, 2}\n",
      "{1, 2}\n",
      "-------------------------------------------------------\n",
      "True False True False\n"
     ]
    }
   ],
   "source": [
    "t = (1, 2, 3, 4, 5, 6, 7, 8, 9, 10)\n",
    "print(len(t))\n",
    "print(t.index(7))\n",
    "print(t.count(2))\n",
    "print('-----------------------------------------------')\n",
    "x = set()\n",
    "x.add (1)\n",
    "x.add(2)\n",
    "print(x)\n",
    "x.add (1)\n",
    "print(x)\n",
    "print('-------------------------------------------------------')\n",
    "a = True\n",
    "b=False\n",
    "c = 1 < 2\n",
    "d = 7 >10\n",
    "e = None\n",
    "print(a,b,c,d)"
   ]
  },
  {
   "cell_type": "code",
   "execution_count": 1,
   "id": "63109e83-f789-4899-9b48-032b4ed48ba7",
   "metadata": {},
   "outputs": [
    {
     "name": "stdout",
     "output_type": "stream",
     "text": [
      "{'titulo': 'star wars', 'ano': '1977', 'director': 'george lucas'}\n",
      "o titulo é star wars\n",
      "o ano é 1977\n",
      "o director é george lucas\n"
     ]
    }
   ],
   "source": [
    "filme = {}\n",
    "filme['titulo'] = 'star wars'\n",
    "filme ['ano'] = '1977'\n",
    "filme ['director'] = 'george lucas'\n",
    "print(filme)\n",
    "for k,v in filme.items():\n",
    "    print('o {} é {}'.format(k,v))"
   ]
  },
  {
   "cell_type": "code",
   "execution_count": 24,
   "id": "bb81a6e2-337e-4eaa-b1d7-eb9cc9f415bd",
   "metadata": {},
   "outputs": [
    {
     "name": "stdout",
     "output_type": "stream",
     "text": [
      "CACHORRO\n",
      "33\n",
      "dict_keys(['dog', 'cat', 'key2'])\n",
      "dict_values(['cachorro', 'gato', [12, 23, 33]])\n",
      "dict_items([('dog', 'cachorro'), ('cat', 'gato'), ('key2', [12, 23, 33])])\n"
     ]
    }
   ],
   "source": [
    "dicionario = {'dog':'cachorro','cat':'gato','key2':[12,23,33]}\n",
    "print(dicionario['dog'].upper())\n",
    "print(dicionario['key2'][2])\n",
    "print(dicionario.keys())\n",
    "print(dicionario.values())\n",
    "print(dicionario.items())"
   ]
  }
 ],
 "metadata": {
  "kernelspec": {
   "display_name": "Python 3 (ipykernel)",
   "language": "python",
   "name": "python3"
  },
  "language_info": {
   "codemirror_mode": {
    "name": "ipython",
    "version": 3
   },
   "file_extension": ".py",
   "mimetype": "text/x-python",
   "name": "python",
   "nbconvert_exporter": "python",
   "pygments_lexer": "ipython3",
   "version": "3.11.7"
  }
 },
 "nbformat": 4,
 "nbformat_minor": 5
}
