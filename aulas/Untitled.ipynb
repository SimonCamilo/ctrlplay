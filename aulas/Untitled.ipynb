{
 "cells": [
  {
   "cell_type": "code",
   "execution_count": 14,
   "id": "1b793945-f5ba-4a59-8f4f-78befd06f55f",
   "metadata": {},
   "outputs": [
    {
     "name": "stdin",
     "output_type": "stream",
     "text": [
      " 2\n"
     ]
    },
    {
     "name": "stdout",
     "output_type": "stream",
     "text": [
      "Senha Invalida\n"
     ]
    }
   ],
   "source": [
    "def pergunta_Senha():\n",
    "    senha_permitida = 2002\n",
    "    while True:\n",
    "        try:\n",
    "            senha = int(input())\n",
    "        except:\n",
    "            print('Senha Invalida')\n",
    "            continue\n",
    "        else:\n",
    "            if senha == senha_permitida:\n",
    "                print('Acesso Permitido')\n",
    "                break\n",
    "            else:\n",
    "                print('Senha Invalida')\n",
    "                conti\n",
    "\n",
    "pergunta_Senha()"
   ]
  }
 ],
 "metadata": {
  "kernelspec": {
   "display_name": "Python 3 (ipykernel)",
   "language": "python",
   "name": "python3"
  },
  "language_info": {
   "codemirror_mode": {
    "name": "ipython",
    "version": 3
   },
   "file_extension": ".py",
   "mimetype": "text/x-python",
   "name": "python",
   "nbconvert_exporter": "python",
   "pygments_lexer": "ipython3",
   "version": "3.11.7"
  }
 },
 "nbformat": 4,
 "nbformat_minor": 5
}
