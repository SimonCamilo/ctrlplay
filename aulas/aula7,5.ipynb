{
 "cells": [
  {
   "cell_type": "code",
   "execution_count": 4,
   "id": "0b8eca76-3a0f-451d-bef5-ecada36404ab",
   "metadata": {},
   "outputs": [
    {
     "name": "stdin",
     "output_type": "stream",
     "text": [
      "digite um numero:  1010\n",
      "digite um numero:  1.01\n"
     ]
    },
    {
     "name": "stdout",
     "output_type": "stream",
     "text": [
      "opções:\n",
      "   [1]somar\n",
      "   [2]subitraçao\n",
      "   [3]multiplicacao\n",
      "   [4]divisao\n",
      "   [5]potencia\n"
     ]
    },
    {
     "name": "stdin",
     "output_type": "stream",
     "text": [
      "qual é a opçao desejada 3\n"
     ]
    },
    {
     "name": "stdout",
     "output_type": "stream",
     "text": [
      "a multuiplicaçao vale 1020.1\n"
     ]
    }
   ],
   "source": [
    "n1 = float(input('digite um numero: '))\n",
    "n2 = float(input('digite um numero: '))\n",
    "def adicao (n1,n2):\n",
    "   return(n1+n2)\n",
    "def subtracao(n1,n2):\n",
    "   return(n1 - n2)\n",
    "def divisao(n1,n2):\n",
    "   return(n1 / n2)\n",
    "def multiplicacoa(n1,n2):\n",
    "   return(n1*n2)\n",
    "def potencia(n1,n2):\n",
    "   return(n1**n2)\n",
    "\n",
    "\n",
    "print('''opções:\n",
    "   [1]somar\n",
    "   [2]subitraçao\n",
    "   [3]multiplicacao\n",
    "   [4]divisao\n",
    "   [5]potencia''')\n",
    "option = int(input('qual é a opçao desejada'))\n",
    "if option == 1:\n",
    "   print('a soma vale {}'.format(adicao(n1,n2)))\n",
    "elif option == 2:\n",
    "   print('a subitrçao vale {}'.format(subtracao(n1,n2)))\n",
    "elif option == 3:\n",
    "   print('a multuiplicaçao vale {}'.format(multiplicacoa(n1,n2)))\n",
    "elif option == 4:\n",
    "   print('a divisao vale {}'.format(divisao(n1,n2)))\n",
    "elif option == 5:\n",
    "   print('a potencia vale {}'.format(potencia(n1,n2)))\n",
    "else:\n",
    "   print('nao ta disponivel a funçao')"
   ]
  }
 ],
 "metadata": {
  "kernelspec": {
   "display_name": "Python 3 (ipykernel)",
   "language": "python",
   "name": "python3"
  },
  "language_info": {
   "codemirror_mode": {
    "name": "ipython",
    "version": 3
   },
   "file_extension": ".py",
   "mimetype": "text/x-python",
   "name": "python",
   "nbconvert_exporter": "python",
   "pygments_lexer": "ipython3",
   "version": "3.11.7"
  }
 },
 "nbformat": 4,
 "nbformat_minor": 5
}
