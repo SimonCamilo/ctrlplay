{
 "cells": [
  {
   "cell_type": "code",
   "execution_count": 2,
   "id": "48d9cda4-c55b-4854-9312-6d1f66ea42f9",
   "metadata": {},
   "outputs": [
    {
     "ename": "SyntaxError",
     "evalue": "unterminated string literal (detected at line 1) (3531883557.py, line 1)",
     "output_type": "error",
     "traceback": [
      "\u001b[1;36m  Cell \u001b[1;32mIn[2], line 1\u001b[1;36m\u001b[0m\n\u001b[1;33m    print('ctrl+play)\u001b[0m\n\u001b[1;37m          ^\u001b[0m\n\u001b[1;31mSyntaxError\u001b[0m\u001b[1;31m:\u001b[0m unterminated string literal (detected at line 1)\n"
     ]
    }
   ],
   "source": [
    "print('ctrl+play)"
   ]
  },
  {
   "cell_type": "code",
   "execution_count": 9,
   "id": "594d9c0a-ed8a-4d0d-a7e7-7b5110aeeecc",
   "metadata": {},
   "outputs": [
    {
     "ename": "IndentationError",
     "evalue": "expected an indented block after 'try' statement on line 1 (2301420991.py, line 3)",
     "output_type": "error",
     "traceback": [
      "\u001b[1;36m  Cell \u001b[1;32mIn[9], line 3\u001b[1;36m\u001b[0m\n\u001b[1;33m    x = int(input(''))\u001b[0m\n\u001b[1;37m    ^\u001b[0m\n\u001b[1;31mIndentationError\u001b[0m\u001b[1;31m:\u001b[0m expected an indented block after 'try' statement on line 1\n"
     ]
    }
   ],
   "source": [
    "x = int(input(''))\n",
    "y = int(input(''))\n",
    "print(x/y)"
   ]
  },
  {
   "cell_type": "code",
   "execution_count": 18,
   "id": "1803ae0f-92f9-49b4-8d44-34635dde0a5a",
   "metadata": {},
   "outputs": [
    {
     "name": "stdin",
     "output_type": "stream",
     "text": [
      " 4\n",
      " 0\n"
     ]
    },
    {
     "name": "stdout",
     "output_type": "stream",
     "text": [
      "algo errado\n"
     ]
    }
   ],
   "source": [
    "try:\n",
    "    x = int(input(''))\n",
    "    y = int(input(''))\n",
    "    print(x/y)\n",
    "except:\n",
    "    print('algo errado')\n",
    "else:\n",
    "    print('certo')"
   ]
  },
  {
   "cell_type": "code",
   "execution_count": 75,
   "id": "277ab4ba-7bed-4b17-aa94-80991a596452",
   "metadata": {},
   "outputs": [
    {
     "name": "stdout",
     "output_type": "stream",
     "text": [
      "texto escrito com sucesso\n",
      "obg\n"
     ]
    }
   ],
   "source": [
    "try:\n",
    "    f = open('arquivo.txt','w')\n",
    "    f.write('escreva')\n",
    "\n",
    "except:\n",
    "    print('nao foi posivel localizar o arquivo')\n",
    "else:\n",
    "    print('texto escrito com sucesso')\n",
    "    f.close()\n",
    "finally:\n",
    "    print('obg')"
   ]
  },
  {
   "cell_type": "code",
   "execution_count": 123,
   "id": "f1cede5a-4531-447a-81dc-1f7f06b8c77a",
   "metadata": {},
   "outputs": [
    {
     "name": "stdin",
     "output_type": "stream",
     "text": [
      "digite um numero inteiro:  a\n"
     ]
    },
    {
     "name": "stdout",
     "output_type": "stream",
     "text": [
      "parece que vc nao digitou um inteiro\n",
      "tentativa numero: 1\n"
     ]
    },
    {
     "name": "stdin",
     "output_type": "stream",
     "text": [
      "digite um numero inteiro:  q\n"
     ]
    },
    {
     "name": "stdout",
     "output_type": "stream",
     "text": [
      "parece que vc nao digitou um inteiro\n",
      "tentativa numero: 2\n"
     ]
    },
    {
     "name": "stdin",
     "output_type": "stream",
     "text": [
      "digite um numero inteiro:  w\n"
     ]
    },
    {
     "name": "stdout",
     "output_type": "stream",
     "text": [
      "parece que vc nao digitou um inteiro\n",
      "tentativa numero: 3\n"
     ]
    },
    {
     "name": "stdin",
     "output_type": "stream",
     "text": [
      "digite um numero inteiro:  r\n"
     ]
    },
    {
     "name": "stdout",
     "output_type": "stream",
     "text": [
      "parece que vc nao digitou um inteiro\n",
      "tentativa numero: 4\n"
     ]
    },
    {
     "name": "stdin",
     "output_type": "stream",
     "text": [
      "digite um numero inteiro:  t\n"
     ]
    },
    {
     "name": "stdout",
     "output_type": "stream",
     "text": [
      "parece que vc nao digitou um inteiro\n",
      "tentativa numero: 5\n"
     ]
    },
    {
     "name": "stdin",
     "output_type": "stream",
     "text": [
      "digite um numero inteiro:  y\n"
     ]
    },
    {
     "name": "stdout",
     "output_type": "stream",
     "text": [
      "parece que vc nao digitou um inteiro\n",
      "tentativa numero: 6\n"
     ]
    },
    {
     "name": "stdin",
     "output_type": "stream",
     "text": [
      "digite um numero inteiro:  u\n"
     ]
    },
    {
     "name": "stdout",
     "output_type": "stream",
     "text": [
      "parece que vc nao digitou um inteiro\n",
      "tentativa numero: 7\n"
     ]
    },
    {
     "name": "stdin",
     "output_type": "stream",
     "text": [
      "digite um numero inteiro:  i\n"
     ]
    },
    {
     "name": "stdout",
     "output_type": "stream",
     "text": [
      "parece que vc nao digitou um inteiro\n",
      "tentativa numero: 8\n"
     ]
    },
    {
     "name": "stdin",
     "output_type": "stream",
     "text": [
      "digite um numero inteiro:  i\n"
     ]
    },
    {
     "name": "stdout",
     "output_type": "stream",
     "text": [
      "parece que vc nao digitou um inteiro\n",
      "tentativa numero: 9\n"
     ]
    },
    {
     "name": "stdin",
     "output_type": "stream",
     "text": [
      "digite um numero inteiro:  1\n"
     ]
    },
    {
     "name": "stdout",
     "output_type": "stream",
     "text": [
      "bem\n",
      "tentativa numero: 10\n"
     ]
    }
   ],
   "source": [
    "def pergunta_Numero():\n",
    "    numero = 1\n",
    "    while True:\n",
    "        try:\n",
    "            val = int(input('digite um numero inteiro: '))\n",
    "        except:\n",
    "            print('parece que vc nao digitou um inteiro')\n",
    "            continue\n",
    "        else:\n",
    "            print('bem')\n",
    "            break\n",
    "        finally:\n",
    "            print('tentativa numero: {}'.format(numero))\n",
    "            numero += 1\n",
    "\n",
    "\n",
    "pergunta_Numero()"
   ]
  },
  {
   "cell_type": "code",
   "execution_count": null,
   "id": "0daf89a7-f712-43b1-a21a-a4659cfcc975",
   "metadata": {},
   "outputs": [],
   "source": [
    "try:\n",
    "    n = int(input())\n",
    "except:\n",
    "    print('deu erro')\n",
    "else:\n",
    "    for num in range(1,n+1):\n",
    "        print('{} {} {}'.format(num,num**2,num**3))"
   ]
  }
 ],
 "metadata": {
  "kernelspec": {
   "display_name": "Python 3 (ipykernel)",
   "language": "python",
   "name": "python3"
  },
  "language_info": {
   "codemirror_mode": {
    "name": "ipython",
    "version": 3
   },
   "file_extension": ".py",
   "mimetype": "text/x-python",
   "name": "python",
   "nbconvert_exporter": "python",
   "pygments_lexer": "ipython3",
   "version": "3.11.7"
  }
 },
 "nbformat": 4,
 "nbformat_minor": 5
}
