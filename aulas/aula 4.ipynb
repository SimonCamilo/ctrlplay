{
 "cells": [
  {
   "cell_type": "code",
   "execution_count": 21,
   "id": "3a88d407-fd84-4260-b54d-33885ef4e8a8",
   "metadata": {},
   "outputs": [
    {
     "name": "stdout",
     "output_type": "stream",
     "text": [
      "True False True True True True\n",
      "True True True\n"
     ]
    }
   ],
   "source": [
    "numero1 = 10\n",
    "numero2 = 50\n",
    "texto1 = 'ctrl'\n",
    "texto2 = 'play'\n",
    "\n",
    "c1 = numero1 * 5 == numero2\n",
    "c2 = texto1 == texto2\n",
    "c3 = numero1 != numero2\n",
    "c4 = texto1 != numero2\n",
    "c7 = numero1 < numero2\n",
    "c8 = texto1 < texto2\n",
    "print(c1,c2,c3,c4,c7,c8)\n",
    "##########################\n",
    "g1 = 1 < 2 < 3\n",
    "g2 = 1 < 2 and 2 < 3\n",
    "g3 = 1 == 2 or 2 < 3\n",
    "print(g1,g2,g3)\n",
    "############################"
   ]
  },
  {
   "cell_type": "code",
   "execution_count": 28,
   "id": "cbebabe5-5c35-4668-a8c8-27208fa6340d",
   "metadata": {},
   "outputs": [
    {
     "name": "stdout",
     "output_type": "stream",
     "text": [
      "recuperaçao\n"
     ]
    }
   ],
   "source": [
    "nota = 5.9\n",
    "if nota >= 6:\n",
    "    print('aprovado')\n",
    "elif 4 < nota < 6:\n",
    "    print('recuperaçao')\n",
    "else:\n",
    "    print('reprovado')"
   ]
  },
  {
   "cell_type": "code",
   "execution_count": 57,
   "id": "27fe6723-9fd4-471a-b60c-d724cc82937b",
   "metadata": {},
   "outputs": [
    {
     "name": "stdin",
     "output_type": "stream",
     "text": [
      " 12\n"
     ]
    },
    {
     "name": "stdout",
     "output_type": "stream",
     "text": [
      "December\n"
     ]
    }
   ],
   "source": [
    "mes = int(input())\n",
    "calend = [0,'January','February','March','April','May','June','July','August','September','October','November','December']\n",
    "if mes == 1:\n",
    "    print(calend[1])\n",
    "elif mes == 2:\n",
    "    print(calend[2])\n",
    "elif mes == 3:\n",
    "    print(calend[3])\n",
    "elif mes == 4:\n",
    "    print(calend[4])\n",
    "elif mes == 5:\n",
    "    print(calend[5])\n",
    "elif mes == 6:\n",
    "    print(calend[6])\n",
    "elif mes == 7:\n",
    "    print(calend[7])\n",
    "elif mes == 8:\n",
    "    print(calend[8])\n",
    "elif mes == 9:\n",
    "    print(calend[9])\n",
    "elif mes == 10:\n",
    "    print(calend[10])\n",
    "elif mes == 11:\n",
    "    print(calend[11])\n",
    "else:\n",
    "    print(calend[12])"
   ]
  },
  {
   "cell_type": "code",
   "execution_count": 83,
   "id": "de6e4446-7bd6-4015-a9fb-7874b1c59613",
   "metadata": {},
   "outputs": [
    {
     "name": "stdin",
     "output_type": "stream",
     "text": [
      " 5 3\n"
     ]
    },
    {
     "name": "stdout",
     "output_type": "stream",
     "text": [
      "['5', '3']\n",
      "total: R$ 4.50\n"
     ]
    }
   ],
   "source": [
    "lanche = input().split()\n",
    "codigo = int(lanche[0])\n",
    "preços = int(lanche[1])\n",
    "if codigo == 1:\n",
    "    print('total: R$ {:.2f}'.format(preços * 4))\n",
    "elif codigo == 2:\n",
    "    print('total: R$ {:.2f}'.format(preços * 4.5))\n",
    "elif codigo == 3:\n",
    "    print('total: R$ {:.2f}'.format(preços * 5))\n",
    "elif codigo == 4:\n",
    "    print('total: R$ {:.2f}'.format(preços * 2))\n",
    "elif codigo == 5:\n",
    "    print('total: R$ {:.2f}'.format(preços * 1.50))"
   ]
  }
 ],
 "metadata": {
  "kernelspec": {
   "display_name": "Python 3 (ipykernel)",
   "language": "python",
   "name": "python3"
  },
  "language_info": {
   "codemirror_mode": {
    "name": "ipython",
    "version": 3
   },
   "file_extension": ".py",
   "mimetype": "text/x-python",
   "name": "python",
   "nbconvert_exporter": "python",
   "pygments_lexer": "ipython3",
   "version": "3.11.7"
  }
 },
 "nbformat": 4,
 "nbformat_minor": 5
}
