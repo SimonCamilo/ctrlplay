{
 "cells": [
  {
   "cell_type": "code",
   "execution_count": 3,
   "id": "6156b848-8c83-4a6e-82e7-14d670a4e452",
   "metadata": {},
   "outputs": [
    {
     "name": "stdin",
     "output_type": "stream",
     "text": [
      " 2\n",
      " 3\n"
     ]
    },
    {
     "name": "stdout",
     "output_type": "stream",
     "text": [
      "x = 5\n"
     ]
    }
   ],
   "source": [
    "a = int(input())\n",
    "b = int(input())\n",
    "soma = a + b\n",
    "print('soma = {}'.format(soma))"
   ]
  },
  {
   "cell_type": "code",
   "execution_count": 4,
   "id": "d98c6ac3-a93c-4361-82b5-c3da067e06ea",
   "metadata": {},
   "outputs": [
    {
     "name": "stdin",
     "output_type": "stream",
     "text": [
      "digite a base de um triangulo 3\n",
      "digite a altura do triangulo 4\n",
      "digite a hipotenuza do triangulo 5\n"
     ]
    },
    {
     "name": "stdout",
     "output_type": "stream",
     "text": [
      "12.0\n",
      "6.0\n"
     ]
    }
   ],
   "source": [
    "base = float(input('digite a base de um triangulo'))\n",
    "altura = float(input('digite a altura do triangulo'))\n",
    "hipotenuza = float(input('digite a hipotenuza do triangulo'))\n",
    "perimetro = base + altura + hipotenuza\n",
    "area = base*altura/2\n",
    "print(perimetro)\n",
    "print(area)"
   ]
  },
  {
   "cell_type": "code",
   "execution_count": 14,
   "id": "5d77a6a2-8766-437c-8d43-e4e6f4d8fcd4",
   "metadata": {},
   "outputs": [
    {
     "name": "stdin",
     "output_type": "stream",
     "text": [
      " 2\n",
      " 3\n"
     ]
    },
    {
     "name": "stdout",
     "output_type": "stream",
     "text": [
      "media 5\n"
     ]
    }
   ],
   "source": [
    "a = int(input())\n",
    "b = int(input())\n",
    "soma = a+b\n",
    "if soma <=10:\n",
    "    print('media {}'.format(soma))\n",
    "else:\n",
    "    print('')"
   ]
  }
 ],
 "metadata": {
  "kernelspec": {
   "display_name": "Python 3 (ipykernel)",
   "language": "python",
   "name": "python3"
  },
  "language_info": {
   "codemirror_mode": {
    "name": "ipython",
    "version": 3
   },
   "file_extension": ".py",
   "mimetype": "text/x-python",
   "name": "python",
   "nbconvert_exporter": "python",
   "pygments_lexer": "ipython3",
   "version": "3.11.7"
  }
 },
 "nbformat": 4,
 "nbformat_minor": 5
}
