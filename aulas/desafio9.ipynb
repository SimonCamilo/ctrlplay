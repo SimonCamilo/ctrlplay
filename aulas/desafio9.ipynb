{
 "cells": [
  {
   "cell_type": "code",
   "execution_count": 10,
   "id": "0832063f-acf8-438d-8d78-2a833bfad28f",
   "metadata": {},
   "outputs": [
    {
     "name": "stdin",
     "output_type": "stream",
     "text": [
      "  3\n",
      "  4\n",
      "  5\n",
      "  6\n",
      "  7\n"
     ]
    },
    {
     "name": "stdout",
     "output_type": "stream",
     "text": [
      "4, valores pares\n"
     ]
    }
   ],
   "source": [
    "for cont in range(0,5):\n",
    "    nome = int(input(' '))\n",
    "    if nome % 2 == 0:\n",
    "        tot_par = tot_par + 1\n",
    "print('{}, valores pares'.format(tot_par))"
   ]
  }
 ],
 "metadata": {
  "kernelspec": {
   "display_name": "Python 3 (ipykernel)",
   "language": "python",
   "name": "python3"
  },
  "language_info": {
   "codemirror_mode": {
    "name": "ipython",
    "version": 3
   },
   "file_extension": ".py",
   "mimetype": "text/x-python",
   "name": "python",
   "nbconvert_exporter": "python",
   "pygments_lexer": "ipython3",
   "version": "3.11.7"
  }
 },
 "nbformat": 4,
 "nbformat_minor": 5
}
