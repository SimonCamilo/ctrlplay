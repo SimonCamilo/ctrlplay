{
 "cells": [
  {
   "cell_type": "code",
   "execution_count": 28,
   "id": "5307fa82-b823-4219-b485-0981712f5b84",
   "metadata": {},
   "outputs": [
    {
     "name": "stderr",
     "output_type": "stream",
     "text": [
      "..\n",
      "----------------------------------------------------------------------\n",
      "Ran 2 tests in 0.001s\n",
      "\n",
      "OK\n"
     ]
    },
    {
     "data": {
      "text/plain": [
       "<unittest.main.TestProgram at 0x204d43c4e10>"
      ]
     },
     "execution_count": 28,
     "metadata": {},
     "output_type": "execute_result"
    }
   ],
   "source": [
    "import unittest\n",
    "from nome import sobrenomeNaOrdem\n",
    "\n",
    "class NomeTest(unittest.TestCase):\n",
    "\n",
    "\n",
    "    def test_sobrenomeNaOrdem(self):\n",
    "        nomeCompleto = sobrenomeNaOrdem('Simon','Rodriguez','Lopez')\n",
    "        self.assertEqual(nomeCompleto, 'Simon Lopez Rodriguez')\n",
    "\n",
    "\n",
    "    def test_sobrenomeNaOrdem2(self):\n",
    "        nomeCompleto2 = sobrenomeNaOrdem('Rafael','Rodriguez','Lopez')\n",
    "        self.assertEqual(nomeCompleto2, 'Rafael Lopez Rodriguez')\n",
    "\n",
    "unittest.main(argv=[''], exit=False)"
   ]
  },
  {
   "cell_type": "code",
   "execution_count": 39,
   "id": "ebef1d07-0a9f-4a9f-81c9-b26c884d9b52",
   "metadata": {},
   "outputs": [
    {
     "name": "stderr",
     "output_type": "stream",
     "text": [
      "....\n",
      "----------------------------------------------------------------------\n",
      "Ran 4 tests in 0.002s\n",
      "\n",
      "OK\n"
     ]
    },
    {
     "data": {
      "text/plain": [
       "<unittest.main.TestProgram at 0x204d3dd8090>"
      ]
     },
     "execution_count": 39,
     "metadata": {},
     "output_type": "execute_result"
    }
   ],
   "source": [
    "import unittest\n",
    "from exame import Prova\n",
    "\n",
    "class ProvaText(unittest.TestCase):\n",
    "    \n",
    "    def setUp(self):\n",
    "        self.questao = 'como é composta a sangre?'\n",
    "        self.resposta = 'A parte líquida, chamada plasma, contém água, sais e proteínas'\n",
    "        self.p = Prova()\n",
    "        self.p.armazena_Questao_Resposta(self.questao, self.resposta)\n",
    "\n",
    "    def test_armazenaQuestao(self):\n",
    "        self.assertIn('como é composta a sangre?', self.p.questoes)\n",
    "\n",
    "    def test_armazenaResposta(self):\n",
    "        self.assertIn('A parte líquida, chamada plasma, contém água, sais e proteínas', self.p.resposta)\n",
    "\n",
    "\n",
    "unittest.main(argv=[''], exit=False)"
   ]
  },
  {
   "cell_type": "code",
   "execution_count": 49,
   "id": "af287afb-ef14-41de-a9ea-770841a0a7a9",
   "metadata": {},
   "outputs": [
    {
     "name": "stderr",
     "output_type": "stream",
     "text": [
      ".....\n",
      "----------------------------------------------------------------------\n",
      "Ran 5 tests in 0.003s\n",
      "\n",
      "OK\n"
     ]
    },
    {
     "data": {
      "text/plain": [
       "<unittest.main.TestProgram at 0x204d5806450>"
      ]
     },
     "execution_count": 49,
     "metadata": {},
     "output_type": "execute_result"
    }
   ],
   "source": [
    "import unittest\n",
    "from calculadora import adicao, subtracao, divisao, multiplicacoa, potencia\n",
    "\n",
    "class calculadoraTest(unittest.TestCase):\n",
    "\n",
    "    def testadicao(self):\n",
    "        self.assertEqual(adicao(15,3), 18)\n",
    "\n",
    "\n",
    "unittest.main(argv=[''], exit=False)"
   ]
  }
 ],
 "metadata": {
  "kernelspec": {
   "display_name": "Python 3 (ipykernel)",
   "language": "python",
   "name": "python3"
  },
  "language_info": {
   "codemirror_mode": {
    "name": "ipython",
    "version": 3
   },
   "file_extension": ".py",
   "mimetype": "text/x-python",
   "name": "python",
   "nbconvert_exporter": "python",
   "pygments_lexer": "ipython3",
   "version": "3.11.7"
  }
 },
 "nbformat": 4,
 "nbformat_minor": 5
}
