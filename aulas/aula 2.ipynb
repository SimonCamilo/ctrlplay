{
 "cells": [
  {
   "cell_type": "code",
   "execution_count": 21,
   "id": "78be90a9-2a7e-4100-9d44-4d1bdab99978",
   "metadata": {},
   "outputs": [
    {
     "name": "stdout",
     "output_type": "stream",
     "text": [
      "c\n",
      "t\n",
      "r\n",
      "l\n",
      "+\n",
      "p\n",
      "l\n",
      "a\n",
      "y\n"
     ]
    }
   ],
   "source": [
    "frase=\"ctrl+play\"\n",
    "print(frase[0])\n",
    "print(frase[1])\n",
    "print(frase[2])\n",
    "print(frase[3])\n",
    "print(frase[4])\n",
    "print(frase[5])\n",
    "print(frase[6])\n",
    "print(frase[7])\n",
    "print(frase[8])"
   ]
  },
  {
   "cell_type": "code",
   "execution_count": 25,
   "id": "c38a1acf-29dc-4d5d-b127-5b2a78bd5b84",
   "metadata": {},
   "outputs": [
    {
     "name": "stdout",
     "output_type": "stream",
     "text": [
      "c\n",
      "ct\n",
      "ctr\n",
      "ctrl\n",
      "ctrl+\n",
      "ctrl+p\n",
      "ctrl+pl\n",
      "ctrl+pla\n",
      "ctrl+play\n"
     ]
    }
   ],
   "source": [
    "frase=\"ctrl+play\"\n",
    "print(frase[0])\n",
    "print(frase[0:2])\n",
    "print(frase[0:3])\n",
    "print(frase[0:4])\n",
    "print(frase[0:5])\n",
    "print(frase[0:6])\n",
    "print(frase[0:7])\n",
    "print(frase[0:8])\n",
    "print(frase[0:9])"
   ]
  },
  {
   "cell_type": "code",
   "execution_count": 38,
   "id": "84c92a59-f765-4e05-97e8-c0d5e96855f8",
   "metadata": {},
   "outputs": [
    {
     "name": "stdin",
     "output_type": "stream",
     "text": [
      "digite o nome de cidade:  santo andre\n"
     ]
    },
    {
     "name": "stdout",
     "output_type": "stream",
     "text": [
      "True\n"
     ]
    }
   ],
   "source": [
    "cidade=input('digite o nome de cidade: ').strip().lower()\n",
    "print (cidade [ :5]== 'santo')"
   ]
  },
  {
   "cell_type": "code",
   "execution_count": 1,
   "id": "f4b1b8bf-e256-48bd-bc96-0c680a06b11e",
   "metadata": {},
   "outputs": [
    {
     "name": "stdout",
     "output_type": "stream",
     "text": [
      "a string é ola\n",
      "a string é ola\n"
     ]
    }
   ],
   "source": [
    "string = 'ola'\n",
    "print('a string é {}'.format(string))\n",
    "print(f'a string é {\"ola\"}')"
   ]
  },
  {
   "cell_type": "code",
   "execution_count": 26,
   "id": "6c5179ba-bbc8-4d02-80f4-75d184cca707",
   "metadata": {},
   "outputs": [
    {
     "name": "stdout",
     "output_type": "stream",
     "text": [
      "teste\n",
      "teste\n",
      "saltando \t linhas\n",
      " arrumar\n",
      "viarmrsucat\n",
      "4\n",
      "simonrodriguez\n",
      "=-=-=-=-=-=-=-=-=-=-\n"
     ]
    },
    {
     "name": "stdin",
     "output_type": "stream",
     "text": [
      "digite seu nome:  simon\n"
     ]
    },
    {
     "name": "stdout",
     "output_type": "stream",
     "text": [
      "SIMON\n",
      "simon\n",
      "['simon']\n",
      "simon\n",
      "prazer em te conhecer, simon!\n",
      "prazer em te conhecer, simon               !\n",
      "prazer em te conhecer, simon               !\n",
      "prazer em te conhecer,                simon!\n",
      "prazer em te conhecer,        simon        !\n",
      "prazer em te conhecer, *******simon********!\n"
     ]
    }
   ],
   "source": [
    "string = 'teste'\n",
    "print(string)\n",
    "print('teste')\n",
    "'teste'\n",
    "print('saltando \\t linhas')\n",
    "frase = 'vai arrumar seu cuarto'\n",
    "print(frase[3:11])\n",
    "len(frase)\n",
    "print(frase[::2])\n",
    "email = 'simon.lopez@escola.pr.gov.br'\n",
    "print(email.count('o'))\n",
    "nome = 'simon'\n",
    "sobrenome = 'rodriguez' \n",
    "print(nome + sobrenome)\n",
    "print(('=-') * 10) \n",
    "n= str(input('digite seu nome: '))\n",
    "print(n.upper())\n",
    "print(n.lower())\n",
    "print(n.split())\n",
    "print(n.strip())\n",
    "print('prazer em te conhecer, {}!'.format(n))\n",
    "print('prazer em te conhecer, {:20}!'.format(n))\n",
    "print('prazer em te conhecer, {:<20}!'.format(n))\n",
    "print('prazer em te conhecer, {:>20}!'.format(n))\n",
    "print('prazer em te conhecer, {:^20}!'.format(n))\n",
    "print('prazer em te conhecer, {:*^20}!'.format(n))"
   ]
  }
 ],
 "metadata": {
  "kernelspec": {
   "display_name": "Python 3 (ipykernel)",
   "language": "python",
   "name": "python3"
  },
  "language_info": {
   "codemirror_mode": {
    "name": "ipython",
    "version": 3
   },
   "file_extension": ".py",
   "mimetype": "text/x-python",
   "name": "python",
   "nbconvert_exporter": "python",
   "pygments_lexer": "ipython3",
   "version": "3.11.7"
  }
 },
 "nbformat": 4,
 "nbformat_minor": 5
}
